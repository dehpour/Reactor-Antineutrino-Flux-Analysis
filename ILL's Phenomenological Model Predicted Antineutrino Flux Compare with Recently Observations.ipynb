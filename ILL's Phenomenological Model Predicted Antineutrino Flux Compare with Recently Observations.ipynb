{
  "nbformat": 4,
  "nbformat_minor": 0,
  "metadata": {
    "colab": {
      "name": "ILL's Phenomenological Model Predicted Antineutrino Flux Compare with Recently Observations.ipynb",
      "provenance": [],
      "collapsed_sections": [],
      "include_colab_link": true
    },
    "kernelspec": {
      "name": "python3",
      "display_name": "Python 3"
    }
  },
  "cells": [
    {
      "cell_type": "markdown",
      "metadata": {
        "id": "view-in-github",
        "colab_type": "text"
      },
      "source": [
        "<a href=\"https://colab.research.google.com/github/dehpour/Reactor-Antineutrino-Flux-Analysis/blob/main/ILL's%20Phenomenological%20Model%20Predicted%20Antineutrino%20Flux%20Compare%20with%20Recently%20Observations.ipynb\" target=\"_parent\"><img src=\"https://colab.research.google.com/assets/colab-badge.svg\" alt=\"Open In Colab\"/></a>"
      ]
    },
    {
      "cell_type": "code",
      "metadata": {
        "id": "_NBnpuj_LwE0"
      },
      "source": [
        "import pandas as pd\r\n",
        "import numpy as np\r\n",
        "import matplotlib.pyplot as plt\r\n",
        "from scipy import interpolate\r\n",
        "from sympy import diff,solve,Eq"
      ],
      "execution_count": 1,
      "outputs": []
    },
    {
      "cell_type": "markdown",
      "metadata": {
        "id": "FShc4UlbY703"
      },
      "source": [
        "# U-235 Spectra"
      ]
    },
    {
      "cell_type": "markdown",
      "metadata": {
        "id": "2Np-MQ20Y-iN"
      },
      "source": [
        "\r\n",
        "Load predicted antineutrino spectra for U-235 according beta spectra from ILL paper [1] and fit on that with chi-squared method. Hence we have spectra function per energy."
      ]
    },
    {
      "cell_type": "code",
      "metadata": {
        "id": "uh3rOOjjLzW5"
      },
      "source": [
        "ILL_235U = pd.read_csv('https://raw.githubusercontent.com/dehpour/Reactor-Antineutrino-Flux-Analysis/main/db/ILL_1985_235U.csv')\r\n",
        "E_ILL_235U, N_ILL_235U, err_ILL_235U = ILL_235U['E'], ILL_235U['N_nu'], ILL_235U['N_nu err']\r\n",
        "#ILL_235U"
      ],
      "execution_count": 2,
      "outputs": []
    },
    {
      "cell_type": "code",
      "metadata": {
        "id": "Howr6p5CL1AP"
      },
      "source": [
        "from sympy.abc import a,b,c,d,e,f\r\n",
        "chi_sq = []\r\n",
        "\r\n",
        "for i in range (len(N_ILL_235U)):\r\n",
        "    chi_sq.append((((N_ILL_235U[i]) - (a + b*(E_ILL_235U[i]) + c*(E_ILL_235U[i])**2 + d*(E_ILL_235U[i])**3 + e*(E_ILL_235U[i])**4+f*(E_ILL_235U[i])**5))/((err_ILL_235U[i]*N_ILL_235U[i])/100))**2)\r\n",
        "    i += 1\r\n",
        "chi_sq = sum(chi_sq)\r\n",
        "\r\n",
        "eq1 = Eq(diff(chi_sq,a), 0)\r\n",
        "eq2 = Eq(diff(chi_sq,b), 0)\r\n",
        "eq3 = Eq(diff(chi_sq,c), 0)\r\n",
        "eq4 = Eq(diff(chi_sq,d), 0)\r\n",
        "eq5 = Eq(diff(chi_sq,e), 0)\r\n",
        "eq6 = Eq(diff(chi_sq,f), 0)\r\n",
        "sol = solve((eq1,eq2,eq3,eq4,eq5,eq6), (a, b, c, d, e, f))\r\n",
        "a_0_235U, a_1_235U, a_2_235U, a_3_235U, a_4_235U,a_5_235U = np.float(sol[a]), np.float(sol[b]), np.float(sol[c]), np.float(sol[d]), np.float(sol[e]), np.float(sol[f])"
      ],
      "execution_count": 3,
      "outputs": []
    },
    {
      "cell_type": "markdown",
      "metadata": {
        "id": "JMYVnO6QZM2H"
      },
      "source": [
        "Load Daya Bay (DYB) and PROSPECT experimental data from [2,3]. Note that spectra must per 12 hr per 1 MeV per fission (fission energy equal to 203 MeV), these data per 24 hr (because we want compare with ILL results), so we divide by 2.\r\n",
        "Another hand PROSPECT data per 200 keV and we must convert to per 1 MeV per fission."
      ]
    },
    {
      "cell_type": "code",
      "metadata": {
        "id": "0jzkk9YwL545",
        "colab": {
          "base_uri": "https://localhost:8080/",
          "height": 204
        },
        "outputId": "52653910-6af4-425d-d889-7706a27447bb"
      },
      "source": [
        "DYB_235U = pd.read_csv('https://raw.githubusercontent.com/dehpour/Reactor-Antineutrino-Flux-Analysis/main/db/DYB_2019_235U.csv')\r\n",
        "E_DYB_235U, N_DYB_235U = DYB_235U['E'], DYB_235U['N_nu']/2\r\n",
        "pd.DataFrame({'E':E_DYB_235U, 'N_nu':N_DYB_235U}).head()"
      ],
      "execution_count": 4,
      "outputs": [
        {
          "output_type": "execute_result",
          "data": {
            "text/html": [
              "<div>\n",
              "<style scoped>\n",
              "    .dataframe tbody tr th:only-of-type {\n",
              "        vertical-align: middle;\n",
              "    }\n",
              "\n",
              "    .dataframe tbody tr th {\n",
              "        vertical-align: top;\n",
              "    }\n",
              "\n",
              "    .dataframe thead th {\n",
              "        text-align: right;\n",
              "    }\n",
              "</style>\n",
              "<table border=\"1\" class=\"dataframe\">\n",
              "  <thead>\n",
              "    <tr style=\"text-align: right;\">\n",
              "      <th></th>\n",
              "      <th>E</th>\n",
              "      <th>N_nu</th>\n",
              "    </tr>\n",
              "  </thead>\n",
              "  <tbody>\n",
              "    <tr>\n",
              "      <th>0</th>\n",
              "      <td>0.849549</td>\n",
              "      <td>0.047054</td>\n",
              "    </tr>\n",
              "    <tr>\n",
              "      <th>1</th>\n",
              "      <td>1.120361</td>\n",
              "      <td>0.182415</td>\n",
              "    </tr>\n",
              "    <tr>\n",
              "      <th>2</th>\n",
              "      <td>1.373119</td>\n",
              "      <td>0.335457</td>\n",
              "    </tr>\n",
              "    <tr>\n",
              "      <th>3</th>\n",
              "      <td>1.619860</td>\n",
              "      <td>0.476720</td>\n",
              "    </tr>\n",
              "    <tr>\n",
              "      <th>4</th>\n",
              "      <td>1.872618</td>\n",
              "      <td>0.626817</td>\n",
              "    </tr>\n",
              "  </tbody>\n",
              "</table>\n",
              "</div>"
            ],
            "text/plain": [
              "          E      N_nu\n",
              "0  0.849549  0.047054\n",
              "1  1.120361  0.182415\n",
              "2  1.373119  0.335457\n",
              "3  1.619860  0.476720\n",
              "4  1.872618  0.626817"
            ]
          },
          "metadata": {
            "tags": []
          },
          "execution_count": 4
        }
      ]
    },
    {
      "cell_type": "code",
      "metadata": {
        "id": "6u8odVuRO8W_",
        "colab": {
          "base_uri": "https://localhost:8080/",
          "height": 204
        },
        "outputId": "a693999b-53df-4bbe-e24e-f872634732d2"
      },
      "source": [
        "PROSPECT_235U = pd.read_csv('https://raw.githubusercontent.com/dehpour/Reactor-Antineutrino-Flux-Analysis/main/db/PROSPECT_2018_235U.csv')\r\n",
        "E_PROSPECT_235U, N_PROSPECT_235U = PROSPECT_235U['E'], ((202.36*1000)/200)*PROSPECT_235U['N_nu']*10**-6/2\r\n",
        "pd.DataFrame({'E':E_PROSPECT_235U, 'N_nu':N_PROSPECT_235U}).head()"
      ],
      "execution_count": 5,
      "outputs": [
        {
          "output_type": "execute_result",
          "data": {
            "text/html": [
              "<div>\n",
              "<style scoped>\n",
              "    .dataframe tbody tr th:only-of-type {\n",
              "        vertical-align: middle;\n",
              "    }\n",
              "\n",
              "    .dataframe tbody tr th {\n",
              "        vertical-align: top;\n",
              "    }\n",
              "\n",
              "    .dataframe thead th {\n",
              "        text-align: right;\n",
              "    }\n",
              "</style>\n",
              "<table border=\"1\" class=\"dataframe\">\n",
              "  <thead>\n",
              "    <tr style=\"text-align: right;\">\n",
              "      <th></th>\n",
              "      <th>E</th>\n",
              "      <th>N_nu</th>\n",
              "    </tr>\n",
              "  </thead>\n",
              "  <tbody>\n",
              "    <tr>\n",
              "      <th>0</th>\n",
              "      <td>0.898990</td>\n",
              "      <td>0.309316</td>\n",
              "    </tr>\n",
              "    <tr>\n",
              "      <th>1</th>\n",
              "      <td>1.101010</td>\n",
              "      <td>0.566459</td>\n",
              "    </tr>\n",
              "    <tr>\n",
              "      <th>2</th>\n",
              "      <td>1.303030</td>\n",
              "      <td>0.620496</td>\n",
              "    </tr>\n",
              "    <tr>\n",
              "      <th>3</th>\n",
              "      <td>1.501443</td>\n",
              "      <td>0.740682</td>\n",
              "    </tr>\n",
              "    <tr>\n",
              "      <th>4</th>\n",
              "      <td>1.699856</td>\n",
              "      <td>0.899067</td>\n",
              "    </tr>\n",
              "  </tbody>\n",
              "</table>\n",
              "</div>"
            ],
            "text/plain": [
              "          E      N_nu\n",
              "0  0.898990  0.309316\n",
              "1  1.101010  0.566459\n",
              "2  1.303030  0.620496\n",
              "3  1.501443  0.740682\n",
              "4  1.699856  0.899067"
            ]
          },
          "metadata": {
            "tags": []
          },
          "execution_count": 5
        }
      ]
    },
    {
      "cell_type": "code",
      "metadata": {
        "id": "jNUKZpUgOerh"
      },
      "source": [
        "#SRP_235U = pd.read_csv('https://raw.githubusercontent.com/dehpour/Reactor-Antineutrino-Flux-Analysis/main/db/SRP_1986_235U.csv')\r\n",
        "#E_SRP_235U, N_SRP_235U = SRP_235U['E'], SRP_235U['N_nu (near)']\r\n",
        "#pd.DataFrame({'E':E_SRP_235U, 'N_nu':N_SRP_235U}).head()"
      ],
      "execution_count": 6,
      "outputs": []
    },
    {
      "cell_type": "code",
      "metadata": {
        "id": "QOuYURB4SoHf"
      },
      "source": [
        "#STEREO_235U = pd.read_csv('https://raw.githubusercontent.com/dehpour/Reactor-Antineutrino-Flux-Analysis/main/db/STEREO_2020_235U.csv')\r\n",
        "#E_STEREO_235U, N_STEREO_235U = STEREO_235U['E'], STEREO_235U['N_nu']\r\n",
        "#pd.DataFrame({'E':E_STEREO_235U, 'N_nu':N_STEREO_235U}).head()"
      ],
      "execution_count": 7,
      "outputs": []
    },
    {
      "cell_type": "code",
      "metadata": {
        "id": "9-5UCic1hGQB"
      },
      "source": [
        "#NU4_235U = pd.read_csv('https://raw.githubusercontent.com/dehpour/Reactor-Antineutrino-Flux-Analysis/main/db/NU4_2020_235U.csv')\r\n",
        "#E_NU4_235U, N_NU4_235U = NU4_235U['E'], NU4_235U['N_nu']\r\n",
        "#pd.DataFrame({'E':E_NU4_235U, 'N_nu':N_NU4_235U}).head()"
      ],
      "execution_count": 8,
      "outputs": []
    },
    {
      "cell_type": "code",
      "metadata": {
        "id": "DjPwn-eRjFfp"
      },
      "source": [
        "#NEOS_235U = pd.read_csv('https://raw.githubusercontent.com/dehpour/Reactor-Antineutrino-Flux-Analysis/main/db/NEOS_2020_235U.csv')\r\n",
        "#E_NEOS_235U, N_NEOS_235U = NEOS_235U['E'], NEOS_235U['N_nu']\r\n",
        "#pd.DataFrame({'E':E_NEOS_235U, 'N_nu':N_NEOS_235U}).head()"
      ],
      "execution_count": 9,
      "outputs": []
    },
    {
      "cell_type": "code",
      "metadata": {
        "id": "1ZxT1oR7nT3Y"
      },
      "source": [
        "#Rovno = pd.read_csv('https://raw.githubusercontent.com/dehpour/Reactor-Antineutrino-Flux-Analysis/main/db/Rovno_2013.csv')\r\n",
        "#E_Rovno_235U, N_Rovno_235U = Rovno['E'], Rovno['N_nu 235U']\r\n",
        "#pd.DataFrame({'E':E_Rovno_235U, 'N_nu':N_Rovno_235U}).head()"
      ],
      "execution_count": 10,
      "outputs": []
    },
    {
      "cell_type": "code",
      "metadata": {
        "colab": {
          "base_uri": "https://localhost:8080/",
          "height": 457
        },
        "id": "kvxzA0LX_Ksc",
        "outputId": "433791df-3f80-43af-f2df-2baabebafdf3"
      },
      "source": [
        "plt.figure(figsize=(10, 5),dpi=100)\r\n",
        "plt.xlim(2.7,8)\r\n",
        "\r\n",
        "plt.scatter(E_DYB_235U, N_DYB_235U, label=\"DYB\", c='c', marker='v', s=12)\r\n",
        "plt.scatter(E_PROSPECT_235U, N_PROSPECT_235U, label=\"PROSPECT\", c='blue', marker='v', s=12)\r\n",
        "#plt.scatter(E_SRP_235U, N_SRP_235U, label=\"SRP\", c='r', marker='v', s=12)\r\n",
        "#plt.scatter(E_STEREO_235U, N_STEREO_235U, label=\"STEREO\", c='yellow', marker='v', s=12)\r\n",
        "#plt.scatter(E_NU4_235U, N_NU4_235U, label=\"Neutrino-4\", c='green', marker='v', s=12)\r\n",
        "#plt.scatter(E_NEOS_235U, N_NEOS_235U, label=\"NEOS\", c='black', marker='v', s=12)\r\n",
        "#plt.scatter(E_Rovno_235U, N_Rovno_235U, label=\"Rovno\", c='orange', marker='v', s=12)\r\n",
        "\r\n",
        "plt.errorbar(E_ILL_235U+0.79, (N_ILL_235U), yerr=((err_ILL_235U*N_ILL_235U)/100), linestyle=\"None\", c='black',capsize=4.5,capthick=0.5,elinewidth=0.5)\r\n",
        "\r\n",
        "plt.scatter(E_DYB_235U, (a_0_235U+a_1_235U*(E_DYB_235U-0.79)+a_2_235U*(E_DYB_235U-0.79)**2+a_3_235U*(E_DYB_235U-0.79)**3+a_4_235U*(E_DYB_235U-0.79)**4+a_5_235U*(E_DYB_235U-0.79)**5), label=\"ILL\", c='black', marker='o', s=12)\r\n",
        "plt.scatter(E_PROSPECT_235U, (a_0_235U+a_1_235U*(E_PROSPECT_235U-0.79)+a_2_235U*(E_PROSPECT_235U-0.79)**2+a_3_235U*(E_PROSPECT_235U-0.79)**3+a_4_235U*(E_PROSPECT_235U-0.79)**4+a_5_235U*(E_PROSPECT_235U-0.79)**5), c='black', marker='o', s=12)\r\n",
        "\r\n",
        "plt.xlabel('Visible Prompt Energy [MeV]')\r\n",
        "plt.ylabel('Entries/Fission/MeV')\r\n",
        "plt.legend()\r\n",
        "plt.show()"
      ],
      "execution_count": 11,
      "outputs": [
        {
          "output_type": "display_data",
          "data": {
            "image/png": "[encoded data removed]",
            "text/plain": [
              "<Figure size 1000x500 with 1 Axes>"
            ]
          },
          "metadata": {
            "tags": [],
            "needs_background": "light"
          }
        }
      ]
    },
    {
      "cell_type": "code",
      "metadata": {
        "colab": {
          "base_uri": "https://localhost:8080/",
          "height": 463
        },
        "id": "6-tUsil3MQ1A",
        "outputId": "fe75e3dc-f1df-4f09-cb8d-5a2917453461"
      },
      "source": [
        "plt.figure(figsize=(10, 5),dpi=100)\r\n",
        "plt.xlim(2.7,8)\r\n",
        "plt.ylim(-4,6)\r\n",
        "\r\n",
        "plt.scatter(E_DYB_235U, (N_DYB_235U)/(a_0_235U+a_1_235U*(E_DYB_235U-0.79)+a_2_235U*(E_DYB_235U-0.79)**2+a_3_235U*(E_DYB_235U-0.79)**3+a_4_235U*(E_DYB_235U-0.79)**4+a_5_235U*(E_DYB_235U-0.79)**5), label=\"DYB/ILL\", c='c', marker='v', s=12)\r\n",
        "plt.scatter(E_PROSPECT_235U, (N_PROSPECT_235U)/(a_0_235U+a_1_235U*(E_PROSPECT_235U-0.79)+a_2_235U*(E_PROSPECT_235U-0.79)**2+a_3_235U*(E_PROSPECT_235U-0.79)**3+a_4_235U*(E_PROSPECT_235U-0.79)**4+a_5_235U*(E_PROSPECT_235U-0.79)**5), label=\"PROSPECT/ILL\", c='b', marker='v', s=12)\r\n",
        "\r\n",
        "plt.errorbar(E_ILL_235U+0.79, (N_ILL_235U/N_ILL_235U), yerr=((err_ILL_235U*N_ILL_235U)/100), linestyle=\"None\", c='black',capsize=4.5,capthick=0.5,elinewidth=0.5)\r\n",
        "plt.axhline(y=1, color='black', linestyle='-',linewidth=0.5)\r\n",
        "\r\n",
        "plt.xlabel('Visible Prompt Energy [MeV]')\r\n",
        "plt.legend()\r\n",
        "plt.show()"
      ],
      "execution_count": 12,
      "outputs": [
        {
          "output_type": "display_data",
          "data": {
            "image/png": "[encoded data removed]",
            "text/plain": [
              "<Figure size 1000x500 with 1 Axes>"
            ]
          },
          "metadata": {
            "tags": [],
            "needs_background": "light"
          }
        }
      ]
    },
    {
      "cell_type": "markdown",
      "metadata": {
        "id": "mtnpZjebaBZG"
      },
      "source": [
        "# Pu-239"
      ]
    },
    {
      "cell_type": "markdown",
      "metadata": {
        "id": "S9_WDtKNaE7V"
      },
      "source": [
        "Load predicted antineutrino spectra for Pu-239 according beta spectra from ILL paper [4] and fit on that with chi-squared method. Hence we have spectra function per energy."
      ]
    },
    {
      "cell_type": "code",
      "metadata": {
        "id": "3rcMYhvnaHlG"
      },
      "source": [
        "ILL_239Pu = pd.read_csv('https://raw.githubusercontent.com/dehpour/Reactor-Antineutrino-Flux-Analysis/main/db/ILL_1989_239Pu.csv')\r\n",
        "E_ILL_239Pu, N_ILL_239Pu, err_ILL_239Pu = ILL_239Pu['E'], ILL_239Pu['N_nu'], ILL_239Pu['N_nu err']\r\n",
        "#ILL_239Pu"
      ],
      "execution_count": 13,
      "outputs": []
    },
    {
      "cell_type": "code",
      "metadata": {
        "id": "mYcDUXXgaJTl"
      },
      "source": [
        "from sympy.abc import a,b,c,d,e,f\r\n",
        "chi_sq = []\r\n",
        "\r\n",
        "for i in range (len(N_ILL_239Pu)):\r\n",
        "    chi_sq.append((((N_ILL_239Pu[i]) - (a + b*(E_ILL_239Pu[i]) + c*(E_ILL_239Pu[i])**2 + d*(E_ILL_239Pu[i])**3 + e*(E_ILL_239Pu[i])**4+f*(E_ILL_239Pu[i])**5))/((err_ILL_239Pu[i]*N_ILL_239Pu[i])/100))**2)\r\n",
        "    i += 1\r\n",
        "    \r\n",
        "chi_sq = sum(chi_sq)\r\n",
        "\r\n",
        "eq1 = Eq(diff(chi_sq,a), 0)\r\n",
        "eq2 = Eq(diff(chi_sq,b), 0)\r\n",
        "eq3 = Eq(diff(chi_sq,c), 0)\r\n",
        "eq4 = Eq(diff(chi_sq,d), 0)\r\n",
        "eq5 = Eq(diff(chi_sq,e), 0)\r\n",
        "eq6 = Eq(diff(chi_sq,f), 0)\r\n",
        "sol = solve((eq1,eq2,eq3,eq4,eq5,eq6), (a, b, c, d, e, f))\r\n",
        "a_0_239Pu, a_1_239Pu, a_2_239Pu, a_3_239Pu, a_4_239Pu,a_5_239Pu = np.float(sol[a]), np.float(sol[b]), np.float(sol[c]), np.float(sol[d]), np.float(sol[e]), np.float(sol[f])"
      ],
      "execution_count": 14,
      "outputs": []
    },
    {
      "cell_type": "markdown",
      "metadata": {
        "id": "8dhuTKa4aNiV"
      },
      "source": [
        "Load Daya Bay (DYB) experimental data from [2]. Note that spectra must per 12 hr per 1 MeV per fission (fission energy equal to 203 MeV), these data per 24 hr (because we want compare with ILL results), so we divide by 2."
      ]
    },
    {
      "cell_type": "code",
      "metadata": {
        "id": "_govyjdYaP9W",
        "colab": {
          "base_uri": "https://localhost:8080/",
          "height": 204
        },
        "outputId": "fc8e2234-9e4e-44a7-dcfc-d1a5c505197e"
      },
      "source": [
        "DYB_239Pu = pd.read_csv('https://raw.githubusercontent.com/dehpour/Reactor-Antineutrino-Flux-Analysis/main/db/DYB_2019_239Pu.csv')\r\n",
        "E_DYB_239Pu, N_DYB_239Pu = DYB_239Pu['E'], DYB_239Pu['N_nu']/2\r\n",
        "pd.DataFrame({'E':E_DYB_239Pu, 'N_nu':N_DYB_239Pu}).head()"
      ],
      "execution_count": 15,
      "outputs": [
        {
          "output_type": "execute_result",
          "data": {
            "text/html": [
              "<div>\n",
              "<style scoped>\n",
              "    .dataframe tbody tr th:only-of-type {\n",
              "        vertical-align: middle;\n",
              "    }\n",
              "\n",
              "    .dataframe tbody tr th {\n",
              "        vertical-align: top;\n",
              "    }\n",
              "\n",
              "    .dataframe thead th {\n",
              "        text-align: right;\n",
              "    }\n",
              "</style>\n",
              "<table border=\"1\" class=\"dataframe\">\n",
              "  <thead>\n",
              "    <tr style=\"text-align: right;\">\n",
              "      <th></th>\n",
              "      <th>E</th>\n",
              "      <th>N_nu</th>\n",
              "    </tr>\n",
              "  </thead>\n",
              "  <tbody>\n",
              "    <tr>\n",
              "      <th>0</th>\n",
              "      <td>0.849549</td>\n",
              "      <td>0.020545</td>\n",
              "    </tr>\n",
              "    <tr>\n",
              "      <th>1</th>\n",
              "      <td>1.126379</td>\n",
              "      <td>0.155902</td>\n",
              "    </tr>\n",
              "    <tr>\n",
              "      <th>2</th>\n",
              "      <td>1.373119</td>\n",
              "      <td>0.314838</td>\n",
              "    </tr>\n",
              "    <tr>\n",
              "      <th>3</th>\n",
              "      <td>1.625878</td>\n",
              "      <td>0.451681</td>\n",
              "    </tr>\n",
              "    <tr>\n",
              "      <th>4</th>\n",
              "      <td>1.872618</td>\n",
              "      <td>0.536979</td>\n",
              "    </tr>\n",
              "  </tbody>\n",
              "</table>\n",
              "</div>"
            ],
            "text/plain": [
              "          E      N_nu\n",
              "0  0.849549  0.020545\n",
              "1  1.126379  0.155902\n",
              "2  1.373119  0.314838\n",
              "3  1.625878  0.451681\n",
              "4  1.872618  0.536979"
            ]
          },
          "metadata": {
            "tags": []
          },
          "execution_count": 15
        }
      ]
    },
    {
      "cell_type": "code",
      "metadata": {
        "id": "oU9au0TCj4NR"
      },
      "source": [
        "#NEOS_239Pu = pd.read_csv('https://raw.githubusercontent.com/dehpour/Reactor-Antineutrino-Flux-Analysis/main/db/NEOS_2020_239Pu.csv')\r\n",
        "#E_NEOS_239Pu, N_NEOS_239Pu = NEOS_239Pu['E'], NEOS_239Pu['N_nu']\r\n",
        "#pd.DataFrame({'E':E_NEOS_239Pu, 'N_nu':N_NEOS_239Pu}).head()"
      ],
      "execution_count": 16,
      "outputs": []
    },
    {
      "cell_type": "code",
      "metadata": {
        "id": "nUU93TbGnvkg"
      },
      "source": [
        "#Rovno = pd.read_csv('https://raw.githubusercontent.com/dehpour/Reactor-Antineutrino-Flux-Analysis/main/db/Rovno_2013.csv')\r\n",
        "#E_Rovno_239Pu, N_Rovno_239Pu = Rovno_239Pu['E'], Rovno_239Pu['N_nu 239Pu']\r\n",
        "#pd.DataFrame({'E':E_Rovno_239Pu, 'N_nu':N_Rovno_239Pu}).head()"
      ],
      "execution_count": 17,
      "outputs": []
    },
    {
      "cell_type": "code",
      "metadata": {
        "colab": {
          "base_uri": "https://localhost:8080/",
          "height": 457
        },
        "id": "99RNHTqBawqF",
        "outputId": "ec890c07-197b-4774-ca5b-67f2589c11ee"
      },
      "source": [
        "plt.figure(figsize=(10, 5),dpi=100)\r\n",
        "plt.xlim(2,8)\r\n",
        "\r\n",
        "plt.scatter(E_DYB_239Pu, N_DYB_239Pu, label=\"DYB\", c='c', marker='v', s=12)\r\n",
        "#plt.scatter(E_NEOS_239Pu, N_NEOS_239Pu, label=\"NEOS\", c='black', marker='v', s=12)\r\n",
        "#plt.scatter(E_Rovno_239Pu, N_Rovno_239Pu, label=\"Rovno\", c='orange', marker='v', s=12)\r\n",
        "\r\n",
        "plt.errorbar(E_ILL_239Pu+0.79, (N_ILL_239Pu), yerr=((err_ILL_239Pu*N_ILL_239Pu)/100), linestyle=\"None\", c='black',capsize=4.5,capthick=0.5,elinewidth=0.5)\r\n",
        "\r\n",
        "plt.scatter(E_DYB_239Pu, (a_0_239Pu+a_1_239Pu*(E_DYB_239Pu-0.79)+a_2_239Pu*(E_DYB_239Pu-0.79)**2+a_3_239Pu*(E_DYB_239Pu-0.79)**3+a_4_239Pu*(E_DYB_239Pu-0.79)**4+a_5_239Pu*(E_DYB_239Pu-0.79)**5), label=\"ILL\", c='black', marker='o', s=12)\r\n",
        "\r\n",
        "plt.xlabel('Visible Prompt Energy [MeV]')\r\n",
        "plt.ylabel('Entries/Fission/MeV')\r\n",
        "plt.legend()\r\n",
        "plt.show()"
      ],
      "execution_count": 18,
      "outputs": [
        {
          "output_type": "display_data",
          "data": {
            "image/png": "[encoded data removed]",
            "text/plain": [
              "<Figure size 1000x500 with 1 Axes>"
            ]
          },
          "metadata": {
            "tags": [],
            "needs_background": "light"
          }
        }
      ]
    },
    {
      "cell_type": "code",
      "metadata": {
        "colab": {
          "base_uri": "https://localhost:8080/",
          "height": 463
        },
        "id": "fEBkND1madvN",
        "outputId": "83b3c509-7dd6-4fc4-a742-b884f52f3b3a"
      },
      "source": [
        "plt.figure(figsize=(10, 5),dpi=100)\r\n",
        "plt.xlim(2.6,8)\r\n",
        "plt.ylim(-4,6)\r\n",
        "\r\n",
        "plt.scatter(E_DYB_239Pu, (N_DYB_239Pu)/(a_0_235U+a_1_235U*(E_DYB_239Pu-0.79)+a_2_235U*(E_DYB_239Pu-0.79)**2+a_3_235U*(E_DYB_239Pu-0.79)**3+a_4_235U*(E_DYB_239Pu-0.79)**4+a_5_235U*(E_DYB_239Pu-0.79)**5), label=\"DYB/ILL\", c='c', marker='v', s=12)\r\n",
        "\r\n",
        "plt.errorbar(E_ILL_235U+0.79, (N_ILL_235U/N_ILL_235U), yerr=((err_ILL_235U*N_ILL_235U)/100), linestyle=\"None\", c='black',capsize=4.5,capthick=0.5,elinewidth=0.5)\r\n",
        "plt.axhline(y=1, color='black', linestyle='-',linewidth=0.5)\r\n",
        "\r\n",
        "plt.xlabel('Visible Prompt Energy [MeV]')\r\n",
        "plt.legend()\r\n",
        "plt.show()"
      ],
      "execution_count": 19,
      "outputs": [
        {
          "output_type": "display_data",
          "data": {
            "image/png": "[encoded data removed]",
            "text/plain": [
              "<Figure size 1000x500 with 1 Axes>"
            ]
          },
          "metadata": {
            "tags": [],
            "needs_background": "light"
          }
        }
      ]
    },
    {
      "cell_type": "markdown",
      "metadata": {
        "id": "UDFT447kZGYY"
      },
      "source": [
        "# References: <br>\r\n",
        "[ILL]\r\n",
        "<a href=\"/https://www.sciencedirect.com/science/article/abs/pii/0370269385913371\"> Schreckenbach, K. et al. (1985). Determination of the antineutrino spectrum from 235-U thermal neutron fission products up to 9.5 MeV.</a><br>\r\n",
        "[ILL]\r\n",
        "<a href=\"/https://www.sciencedirect.com/science/article/abs/pii/0370269389915980\"> Hahn, A. A., et al. (1989). Antineutrino spectra from 241-Pu and 239-Pu thermal neutron fission products.</a><br>\r\n",
        "[DYB]\r\n",
        "<a href=\"/https://journals.aps.org/prl/pdf/10.1103/PhysRevLett.123.111801\" target=\"_blank\"> Adey, D., et al. (2019). Extraction of the 235-U and 239-Pu Antineutrino Spectra at Daya Bay.</a><br>\r\n",
        "[PROSPECT]\r\n",
        "<a href=\"https://arxiv.org/pdf/1812.10877.pdf\" target=\"_blank\"> Ashenfelter, J., et al. (2018). Measurement of the Antineutrino Spectrum from 235-U Fission at HFIR with PROSPECT</a><br>\r\n",
        "[SRP]\r\n",
        "<a href=\"https://aip.scitation.org/doi/abs/10.1063/1.36070\"> Greenwood, Z. D. (1986). Neutrino-oscillation experiments at reactors. AIP Conference Proceedings.</a><br>\r\n",
        "[Neutrino-4]\r\n",
        "<a href=\"https://arxiv.org/abs/2005.05301\"> A.P. Serebrov. et al. (2020). Experiment Neutrino-4 search for sterile neutrino and results of measurements.</a><br>\r\n",
        "[NEOS]\r\n",
        "<a href=\"https://iopscience.iop.org/article/10.1088/1742-6596/1468/1/012185\"> Yoomin Oh. (2020). NEOS: reactor neutrino experiment at short baseline.</a><br>\r\n",
        "[Rovno]\r\n",
        "<a href=\"https://doi.org/10.1134/S106377881304011X\"> V. V. Sinev. (2013). Experimental spectrum of reactor antineutrinos and spectra of main fissile isotopes.</a><br>"
      ]
    }
  ]
}