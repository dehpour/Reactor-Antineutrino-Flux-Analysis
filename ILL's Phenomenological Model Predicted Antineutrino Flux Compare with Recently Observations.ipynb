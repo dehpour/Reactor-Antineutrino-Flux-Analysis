{
  "nbformat": 4,
  "nbformat_minor": 0,
  "metadata": {
    "kernelspec": {
      "display_name": "Python 3",
      "language": "python",
      "name": "python3"
    },
    "language_info": {
      "codemirror_mode": {
        "name": "ipython",
        "version": 3
      },
      "file_extension": ".py",
      "mimetype": "text/x-python",
      "name": "python",
      "nbconvert_exporter": "python",
      "pygments_lexer": "ipython3",
      "version": "3.7.4-final"
    },
    "colab": {
      "name": "ILL's Phenomenological Model Predicted Antineutrino Flux Compare with Recently Observations.ipynb",
      "provenance": [],
      "include_colab_link": true
    }
  },
  "cells": [
    {
      "cell_type": "markdown",
      "metadata": {
        "id": "view-in-github",
        "colab_type": "text"
      },
      "source": [
        "<a href=\"https://colab.research.google.com/github/dehpour/Reactor-Antineutrino-Flux-Analysis/blob/main/ILL's%20Phenomenological%20Model%20Predicted%20Antineutrino%20Flux%20Compare%20with%20Recently%20Observations.ipynb\" target=\"_parent\"><img src=\"https://colab.research.google.com/assets/colab-badge.svg\" alt=\"Open In Colab\"/></a>"
      ]
    },
    {
      "cell_type": "code",
      "metadata": {
        "id": "Kqj5v7-WctR7"
      },
      "source": [
        "import pandas as pd\n",
        "import numpy as np\n",
        "import matplotlib.pyplot as plt\n",
        "from scipy import interpolate\n",
        "from sympy import diff,solve,Eq"
      ],
      "execution_count": 2,
      "outputs": []
    },
    {
      "cell_type": "markdown",
      "metadata": {
        "id": "wv5yfT_GctSF"
      },
      "source": [
        "<h2 style=\"background-color:green;\">\n",
        "U-235 Spectra\n",
        "</h2>"
      ]
    },
    {
      "cell_type": "markdown",
      "metadata": {
        "id": "zPuPRt-9ctSG"
      },
      "source": [
        "Load predicted antineutrino spectra for U-235 according beta spectra from ILL paper [1] and fit on that with chi-squared method. Hence we have spectra function per energy."
      ]
    },
    {
      "cell_type": "code",
      "metadata": {
        "id": "PGdhWxmxctSH"
      },
      "source": [
        "ILL_235U = pd.read_csv('https://raw.githubusercontent.com/dehpour/Reactor-Antineutrino-Flux-Analysis/main/db/1985Schreckenbach_N_nu_E_235U.csv')\n",
        "E_ILL_235U, N_ILL_235U, err_ILL_235U = ILL_235U['E'], ILL_235U['N_nu'], ILL_235U['err_tot']\n",
        "#ILL_235U.head()"
      ],
      "execution_count": 3,
      "outputs": []
    },
    {
      "cell_type": "code",
      "metadata": {
        "id": "FzBt6dySctSO"
      },
      "source": [
        "from sympy.abc import a,b,c,d,e,f\n",
        "chi_sq = []\n",
        "\n",
        "for i in range (len(N_ILL_235U)):\n",
        "    chi_sq.append(((np.log(N_ILL_235U[i]) - (a + b*(E_ILL_235U[i]) + c*(E_ILL_235U[i])**2 + d*(E_ILL_235U[i])**3 + e*(E_ILL_235U[i])**4+f*(E_ILL_235U[i])**5))/np.log((err_ILL_235U[i]*N_ILL_235U[i])/100))**2)\n",
        "    i += 1\n",
        "chi_sq = sum(chi_sq)\n",
        "\n",
        "eq1 = Eq(diff(chi_sq,a), 0)\n",
        "eq2 = Eq(diff(chi_sq,b), 0)\n",
        "eq3 = Eq(diff(chi_sq,c), 0)\n",
        "eq4 = Eq(diff(chi_sq,d), 0)\n",
        "eq5 = Eq(diff(chi_sq,e), 0)\n",
        "eq6 = Eq(diff(chi_sq,f), 0)\n",
        "sol = solve((eq1,eq2,eq3,eq4,eq5,eq6), (a, b, c, d, e, f))\n",
        "a_0_235U, a_1_235U, a_2_235U, a_3_235U, a_4_235U,a_5_235U = np.float(sol[a]), np.float(sol[b]), np.float(sol[c]), np.float(sol[d]), np.float(sol[e]), np.float(sol[f])"
      ],
      "execution_count": 5,
      "outputs": []
    },
    {
      "cell_type": "markdown",
      "metadata": {
        "id": "y8MRXunQctSR"
      },
      "source": [
        "Load Daya Bay (DYB) and PROSPECT experimental data from [2,3]. Note that spectra must per 12 hr per 1 MeV per fission (fission energy equal to 203 MeV), these data per 24 hr (because we want compare with ILL results), so we divide by 2.<br>\n",
        "Another hand PROSPECT data per 200 keV and we must convert to per 1 MeV per fission."
      ]
    },
    {
      "cell_type": "code",
      "metadata": {
        "colab": {
          "base_uri": "https://localhost:8080/",
          "height": 204
        },
        "id": "SioB0V-dctSS",
        "outputId": "5c89a93a-38c4-441d-cc66-b12751900f05"
      },
      "source": [
        "DYB_235U = pd.read_csv('https://raw.githubusercontent.com/dehpour/Reactor-Antineutrino-Flux-Analysis/main/db/2019Adey_N_nu_E_235U.csv')\n",
        "E_DYB_235U, N_DYB_235U = DYB_235U['E'], DYB_235U['N_nu']/2\n",
        "DYB_235U.head()"
      ],
      "execution_count": 50,
      "outputs": [
        {
          "output_type": "execute_result",
          "data": {
            "text/html": [
              "<div>\n",
              "<style scoped>\n",
              "    .dataframe tbody tr th:only-of-type {\n",
              "        vertical-align: middle;\n",
              "    }\n",
              "\n",
              "    .dataframe tbody tr th {\n",
              "        vertical-align: top;\n",
              "    }\n",
              "\n",
              "    .dataframe thead th {\n",
              "        text-align: right;\n",
              "    }\n",
              "</style>\n",
              "<table border=\"1\" class=\"dataframe\">\n",
              "  <thead>\n",
              "    <tr style=\"text-align: right;\">\n",
              "      <th></th>\n",
              "      <th>E</th>\n",
              "      <th>N_nu</th>\n",
              "    </tr>\n",
              "  </thead>\n",
              "  <tbody>\n",
              "    <tr>\n",
              "      <th>0</th>\n",
              "      <td>0.849549</td>\n",
              "      <td>0.094109</td>\n",
              "    </tr>\n",
              "    <tr>\n",
              "      <th>1</th>\n",
              "      <td>1.120361</td>\n",
              "      <td>0.364829</td>\n",
              "    </tr>\n",
              "    <tr>\n",
              "      <th>2</th>\n",
              "      <td>1.373119</td>\n",
              "      <td>0.670914</td>\n",
              "    </tr>\n",
              "    <tr>\n",
              "      <th>3</th>\n",
              "      <td>1.619860</td>\n",
              "      <td>0.953441</td>\n",
              "    </tr>\n",
              "    <tr>\n",
              "      <th>4</th>\n",
              "      <td>1.872618</td>\n",
              "      <td>1.253634</td>\n",
              "    </tr>\n",
              "  </tbody>\n",
              "</table>\n",
              "</div>"
            ],
            "text/plain": [
              "          E      N_nu\n",
              "0  0.849549  0.094109\n",
              "1  1.120361  0.364829\n",
              "2  1.373119  0.670914\n",
              "3  1.619860  0.953441\n",
              "4  1.872618  1.253634"
            ]
          },
          "metadata": {
            "tags": []
          },
          "execution_count": 50
        }
      ]
    },
    {
      "cell_type": "code",
      "metadata": {
        "colab": {
          "base_uri": "https://localhost:8080/",
          "height": 204
        },
        "id": "URS2TC9uctSS",
        "outputId": "8a1cf237-fcfd-4af6-ea0c-e68d88417d9e"
      },
      "source": [
        "PROSPECT_235U = pd.read_csv('https://raw.githubusercontent.com/dehpour/Reactor-Antineutrino-Flux-Analysis/main/db/2018Ashenfelter_N_nu_E_235U.csv')\n",
        "E_PROSPECT_235U, N_PROSPECT_235U = PROSPECT_235U['E'], ((202.36*1000)/200)*PROSPECT_235U['N_nu']*10**-6/2\n",
        "PROSPECT_235U.head()"
      ],
      "execution_count": 46,
      "outputs": [
        {
          "output_type": "execute_result",
          "data": {
            "text/html": [
              "<div>\n",
              "<style scoped>\n",
              "    .dataframe tbody tr th:only-of-type {\n",
              "        vertical-align: middle;\n",
              "    }\n",
              "\n",
              "    .dataframe tbody tr th {\n",
              "        vertical-align: top;\n",
              "    }\n",
              "\n",
              "    .dataframe thead th {\n",
              "        text-align: right;\n",
              "    }\n",
              "</style>\n",
              "<table border=\"1\" class=\"dataframe\">\n",
              "  <thead>\n",
              "    <tr style=\"text-align: right;\">\n",
              "      <th></th>\n",
              "      <th>N_nu</th>\n",
              "      <th>E</th>\n",
              "    </tr>\n",
              "  </thead>\n",
              "  <tbody>\n",
              "    <tr>\n",
              "      <th>0</th>\n",
              "      <td>611.418048</td>\n",
              "      <td>0.898990</td>\n",
              "    </tr>\n",
              "    <tr>\n",
              "      <th>1</th>\n",
              "      <td>1119.705341</td>\n",
              "      <td>1.101010</td>\n",
              "    </tr>\n",
              "    <tr>\n",
              "      <th>2</th>\n",
              "      <td>1226.519337</td>\n",
              "      <td>1.303030</td>\n",
              "    </tr>\n",
              "    <tr>\n",
              "      <th>3</th>\n",
              "      <td>1464.088398</td>\n",
              "      <td>1.501443</td>\n",
              "    </tr>\n",
              "    <tr>\n",
              "      <th>4</th>\n",
              "      <td>1777.163904</td>\n",
              "      <td>1.699856</td>\n",
              "    </tr>\n",
              "  </tbody>\n",
              "</table>\n",
              "</div>"
            ],
            "text/plain": [
              "          N_nu         E\n",
              "0   611.418048  0.898990\n",
              "1  1119.705341  1.101010\n",
              "2  1226.519337  1.303030\n",
              "3  1464.088398  1.501443\n",
              "4  1777.163904  1.699856"
            ]
          },
          "metadata": {
            "tags": []
          },
          "execution_count": 46
        }
      ]
    },
    {
      "cell_type": "code",
      "metadata": {
        "id": "HL9Ds0t7yQFV"
      },
      "source": [
        "NU4_235U = pd.read_csv('https://raw.githubusercontent.com/dehpour/Reactor-Antineutrino-Flux-Analysis/main/db/2021Serebrov_N_nu_E_235U.csv')\r\n",
        "E_NU4_235U, N_NU4_235U = NU4_235U['E'], NU4_235U['N_nu']/2\r\n",
        "#NU4_235U.head()"
      ],
      "execution_count": 49,
      "outputs": []
    },
    {
      "cell_type": "code",
      "metadata": {
        "id": "2tDhhlPFBN9u",
        "outputId": "a76594c2-c672-4037-b576-acdd7fe80b09",
        "colab": {
          "base_uri": "https://localhost:8080/",
          "height": 204
        }
      },
      "source": [
        "NEOS_235U = pd.read_csv('https://raw.githubusercontent.com/dehpour/Reactor-Antineutrino-Flux-Analysis/main/db/2020Oh_N_nu_E_235U.csv')\r\n",
        "E_NEOS_235U, N_NEOS_235U = NEOS_235U['E'], NEOS_235U['N_nu']*0.0213649852/2\r\n",
        "NEOS_235U.head()"
      ],
      "execution_count": 54,
      "outputs": [
        {
          "output_type": "execute_result",
          "data": {
            "text/html": [
              "<div>\n",
              "<style scoped>\n",
              "    .dataframe tbody tr th:only-of-type {\n",
              "        vertical-align: middle;\n",
              "    }\n",
              "\n",
              "    .dataframe tbody tr th {\n",
              "        vertical-align: top;\n",
              "    }\n",
              "\n",
              "    .dataframe thead th {\n",
              "        text-align: right;\n",
              "    }\n",
              "</style>\n",
              "<table border=\"1\" class=\"dataframe\">\n",
              "  <thead>\n",
              "    <tr style=\"text-align: right;\">\n",
              "      <th></th>\n",
              "      <th>E</th>\n",
              "      <th>N_nu</th>\n",
              "    </tr>\n",
              "  </thead>\n",
              "  <tbody>\n",
              "    <tr>\n",
              "      <th>0</th>\n",
              "      <td>0.792869</td>\n",
              "      <td>6.009689</td>\n",
              "    </tr>\n",
              "    <tr>\n",
              "      <th>1</th>\n",
              "      <td>1.113752</td>\n",
              "      <td>16.857589</td>\n",
              "    </tr>\n",
              "    <tr>\n",
              "      <th>2</th>\n",
              "      <td>1.363328</td>\n",
              "      <td>24.626548</td>\n",
              "    </tr>\n",
              "    <tr>\n",
              "      <th>3</th>\n",
              "      <td>1.617997</td>\n",
              "      <td>32.982179</td>\n",
              "    </tr>\n",
              "    <tr>\n",
              "      <th>4</th>\n",
              "      <td>1.877759</td>\n",
              "      <td>38.501501</td>\n",
              "    </tr>\n",
              "  </tbody>\n",
              "</table>\n",
              "</div>"
            ],
            "text/plain": [
              "          E       N_nu\n",
              "0  0.792869   6.009689\n",
              "1  1.113752  16.857589\n",
              "2  1.363328  24.626548\n",
              "3  1.617997  32.982179\n",
              "4  1.877759  38.501501"
            ]
          },
          "metadata": {
            "tags": []
          },
          "execution_count": 54
        }
      ]
    },
    {
      "cell_type": "markdown",
      "metadata": {
        "id": "_Y-ubz1QctST"
      },
      "source": [
        "Now we compare!"
      ]
    },
    {
      "cell_type": "code",
      "metadata": {
        "scrolled": false,
        "colab": {
          "base_uri": "https://localhost:8080/",
          "height": 464
        },
        "id": "EG4wxTnuctST",
        "outputId": "111a4340-d1ae-45a3-fe75-0010b4002136"
      },
      "source": [
        "plt.figure(figsize=(10, 5),dpi=100)\n",
        "plt.xlim(1.8,8.9)\n",
        "#plt.ylim(1,10000000)\n",
        "plt.ylim(1-30,1+30)\n",
        "#plt.yscale(\"log\") \n",
        "\n",
        "plt.scatter(E_DYB_235U, (N_DYB_235U)/np.exp(a_0_235U+a_1_235U*E_DYB_235U+a_2_235U*E_DYB_235U**2+a_3_235U*E_DYB_235U**3+a_4_235U*E_DYB_235U**4+a_5_235U*E_DYB_235U**5), label=\"DYB/ILL\", c='b', marker='v', s=12)\n",
        "plt.scatter(E_PROSPECT_235U, (N_PROSPECT_235U)/np.exp(a_0_235U+a_1_235U*E_PROSPECT_235U+a_2_235U*E_PROSPECT_235U**2+a_3_235U*E_PROSPECT_235U**3+a_4_235U*E_PROSPECT_235U**4+a_5_235U*E_PROSPECT_235U**5), label=\"PROSPECT/ILL\", c='r', s=12)\n",
        "plt.scatter(E_NU4_235U, (N_NU4_235U)/np.exp(a_0_235U+a_1_235U*E_NU4_235U+a_2_235U*E_NU4_235U**2+a_3_235U*E_NU4_235U**3+a_4_235U*E_NU4_235U**4+a_5_235U*E_NU4_235U**5), label=\"NU-4/ILL\", c='green', marker='o', s=12)\n",
        "plt.scatter(E_NEOS_235U, (N_NEOS_235U)/np.exp(a_0_235U+a_1_235U*E_NEOS_235U+a_2_235U*E_NEOS_235U**2+a_3_235U*E_NEOS_235U**3+a_4_235U*E_NEOS_235U**4+a_5_235U*E_NEOS_235U**5), label=\"NEOS/ILL\", c='orange', marker='v', s=12)\n",
        "\n",
        "plt.errorbar(E_ILL_235U, (N_ILL_235U/N_ILL_235U), yerr=(err_ILL_235U), linestyle=\"None\", c='black',capsize=4.5,capthick=0.5,elinewidth=0.5, label=\"ILL err\")\n",
        "plt.axhline(y=1, color='black', linestyle='-',linewidth=0.5)\n",
        "\n",
        "plt.title('Antineutrino Spectrum From ''$^{235}U $')\n",
        "plt.legend()\n",
        "plt.show()"
      ],
      "execution_count": 56,
      "outputs": [
        {
          "output_type": "display_data",
          "data": {
            "image/png": "[encoded data removed]",
            "text/plain": [
              "<Figure size 1000x500 with 1 Axes>"
            ]
          },
          "metadata": {
            "tags": [],
            "needs_background": "light"
          }
        }
      ]
    },
    {
      "cell_type": "markdown",
      "metadata": {
        "id": "Z8DAq1JsctSV"
      },
      "source": [
        "<h2 style=\"background-color:green;\">\n",
        "Pu-239\n",
        "</h2>"
      ]
    },
    {
      "cell_type": "markdown",
      "metadata": {
        "id": "8JB7UR07ctSV"
      },
      "source": [
        "Load predicted antineutrino spectra for Pu-239 according beta spectra from ILL paper [4] and fit on that with chi-squared method. Hence we have spectra function per energy."
      ]
    },
    {
      "cell_type": "code",
      "metadata": {
        "id": "pXpCeJeXctSW"
      },
      "source": [
        "ILL_239Pu = pd.read_csv('https://raw.githubusercontent.com/dehpour/Reactor-Antineutrino-Flux-Analysis/main/db/1989Hahn_N_nu_E_239Pu.csv')\n",
        "E_ILL_239Pu, N_ILL_239Pu, err_ILL_239Pu = ILL_239Pu['E'], ILL_239Pu['N_nu'], ILL_239Pu['err_tot']\n",
        "#ILL_239Pu.head()"
      ],
      "execution_count": null,
      "outputs": []
    },
    {
      "cell_type": "code",
      "metadata": {
        "id": "901yfvlSctSX"
      },
      "source": [
        "from sympy.abc import a,b,c,d,e,f\n",
        "chi_sq = []\n",
        "\n",
        "for i in range (len(N_ILL_239Pu)):\n",
        "    chi_sq.append(((np.log(N_ILL_239Pu[i]) - (a + b*(E_ILL_239Pu[i]) + c*(E_ILL_239Pu[i])**2 + d*(E_ILL_239Pu[i])**3 + e*(E_ILL_239Pu[i])**4+f*(E_ILL_239Pu[i])**5))/np.log((err_ILL_239Pu[i]*N_ILL_239Pu[i])/100))**2)\n",
        "    i += 1\n",
        "    \n",
        "chi_sq = sum(chi_sq)\n",
        "\n",
        "eq1 = Eq(diff(chi_sq,a))\n",
        "eq2 = Eq(diff(chi_sq,b))\n",
        "eq3 = Eq(diff(chi_sq,c))\n",
        "eq4 = Eq(diff(chi_sq,d))\n",
        "eq5 = Eq(diff(chi_sq,e))\n",
        "eq6 = Eq(diff(chi_sq,f))\n",
        "sol = solve((eq1,eq2,eq3,eq4,eq5,eq6), (a, b, c, d, e, f))\n",
        "a_0_239Pu, a_1_239Pu, a_2_239Pu, a_3_239Pu, a_4_239Pu,a_5_239Pu = np.float(sol[a]), np.float(sol[b]), np.float(sol[c]), np.float(sol[d]), np.float(sol[e]), np.float(sol[f])"
      ],
      "execution_count": null,
      "outputs": []
    },
    {
      "cell_type": "markdown",
      "metadata": {
        "id": "C4D6Op02ctSX"
      },
      "source": [
        "Load Daya Bay (DYB) experimental data from [2]. Note that spectra must per 12 hr per 1 MeV per fission (fission energy equal to 203 MeV), these data per 24 hr (because we want compare with ILL results), so we divide by 2.<br>"
      ]
    },
    {
      "cell_type": "code",
      "metadata": {
        "id": "gDhZddRdctSY"
      },
      "source": [
        "DYB_239Pu = pd.read_csv('https://raw.githubusercontent.com/dehpour/Reactor-Antineutrino-Flux-Analysis/main/db/2019Adey_N_nu_E_239Pu.csv')\n",
        "E_DYB_239Pu, N_DYB_239Pu = DYB_239Pu['E'], DYB_239Pu['N_nu']/2\n",
        "#DYB_239Pu.head()"
      ],
      "execution_count": null,
      "outputs": []
    },
    {
      "cell_type": "markdown",
      "metadata": {
        "id": "WOhKy6OWctSZ"
      },
      "source": [
        "Now we compare!"
      ]
    },
    {
      "cell_type": "code",
      "metadata": {
        "scrolled": false,
        "id": "x02R28rictSk",
        "outputId": "cb7d1993-d957-4d22-824f-ce0cec9e9fb5"
      },
      "source": [
        "plt.figure(figsize=(10, 5),dpi=100)\n",
        "plt.xlim(1.4,8)\n",
        "plt.ylim(1-30,1+30)\n",
        "\n",
        "plt.scatter(E_DYB_239Pu, (N_DYB_239Pu)/np.exp(a_0_239Pu+a_1_239Pu*E_DYB_239Pu+a_2_239Pu*E_DYB_239Pu**2+a_3_239Pu*E_DYB_239Pu**3+a_4_239Pu*E_DYB_239Pu**4+a_5_239Pu*E_DYB_239Pu**5), label=\"DYB/ILL\", c='b', marker='v', s=12)\n",
        "\n",
        "plt.errorbar(E_ILL_239Pu, (N_ILL_239Pu/N_ILL_239Pu), yerr=(err_ILL_239Pu), linestyle=\"None\", c='black',capsize=4.5,capthick=0.5,elinewidth=0.5, label=\"ILL err\")\n",
        "plt.axhline(y=1, color='black', linestyle='-',linewidth=0.5)\n",
        "\n",
        "plt.title('Antineutrino Spectrum From ''$^{239}Pu $')\n",
        "plt.legend()\n",
        "plt.show()"
      ],
      "execution_count": null,
      "outputs": [
        {
          "output_type": "display_data",
          "data": {
            "text/plain": [
              "<Figure size 1000x500 with 1 Axes>"
            ],
            "image/svg+xml": "<?xml version=\"1.0\" encoding=\"utf-8\" standalone=\"no\"?>\r\n<!DOCTYPE svg PUBLIC \"-//W3C//DTD SVG 1.1//EN\"\r\n  \"http://www.w3.org/Graphics/SVG/1.1/DTD/svg11.dtd\">\r\n<!-- Created with matplotlib (https://matplotlib.org/) -->\r\n<svg height=\"319.798125pt\" version=\"1.1\" viewBox=\"0 0 603.685937 319.798125\" width=\"603.685937pt\" xmlns=\"http://www.w3.org/2000/svg\" xmlns:xlink=\"http://www.w3.org/1999/xlink\">\r\n <defs>\r\n  <style type=\"text/css\">\r\n*{stroke-linecap:butt;stroke-linejoin:round;}\r\n  </style>\r\n </defs>\r\n <g id=\"figure_1\">\r\n  <g id=\"patch_1\">\r\n   <path d=\"M 0 319.798125 \r\nL 603.685937 319.798125 \r\nL 603.685937 0 \r\nL 0 0 \r\nz\r\n\" style=\"fill:none;\"/>\r\n  </g>\r\n  <g id=\"axes_1\">\r\n   <g id=\"patch_2\">\r\n    <path d=\"M 35.304688 295.92 \r\nL 593.304688 295.92 \r\nL 593.304688 24.12 \r\nL 35.304688 24.12 \r\nz\r\n\" style=\"fill:#ffffff;\"/>\r\n   </g>\r\n   <g id=\"PathCollection_1\">\r\n    <defs>\r\n     <path d=\"M -0 1.732051 \r\nL 1.732051 -1.732051 \r\nL -1.732051 -1.732051 \r\nz\r\n\" id=\"me0e0b8e72a\" style=\"stroke:#0000ff;\"/>\r\n    </defs>\r\n    <g clip-path=\"url(#pc55f53cfe6)\">\r\n     <use style=\"fill:#0000ff;stroke:#0000ff;\" x=\"-1\" xlink:href=\"#me0e0b8e72a\" y=\"164.372563\"/>\r\n     <use style=\"fill:#0000ff;stroke:#0000ff;\" x=\"12.171287\" xlink:href=\"#me0e0b8e72a\" y=\"164.190941\"/>\r\n     <use style=\"fill:#0000ff;stroke:#0000ff;\" x=\"33.032051\" xlink:href=\"#me0e0b8e72a\" y=\"163.666411\"/>\r\n     <use style=\"fill:#0000ff;stroke:#0000ff;\" x=\"54.401615\" xlink:href=\"#me0e0b8e72a\" y=\"163.031302\"/>\r\n     <use style=\"fill:#0000ff;stroke:#0000ff;\" x=\"75.262379\" xlink:href=\"#me0e0b8e72a\" y=\"162.417163\"/>\r\n     <use style=\"fill:#0000ff;stroke:#0000ff;\" x=\"96.631942\" xlink:href=\"#me0e0b8e72a\" y=\"161.766182\"/>\r\n     <use style=\"fill:#0000ff;stroke:#0000ff;\" x=\"117.492706\" xlink:href=\"#me0e0b8e72a\" y=\"160.726176\"/>\r\n     <use style=\"fill:#0000ff;stroke:#0000ff;\" x=\"138.862269\" xlink:href=\"#me0e0b8e72a\" y=\"159.712272\"/>\r\n     <use style=\"fill:#0000ff;stroke:#0000ff;\" x=\"160.231833\" xlink:href=\"#me0e0b8e72a\" y=\"159.217676\"/>\r\n     <use style=\"fill:#0000ff;stroke:#0000ff;\" x=\"181.092597\" xlink:href=\"#me0e0b8e72a\" y=\"157.962588\"/>\r\n     <use style=\"fill:#0000ff;stroke:#0000ff;\" x=\"201.953361\" xlink:href=\"#me0e0b8e72a\" y=\"155.798735\"/>\r\n     <use style=\"fill:#0000ff;stroke:#0000ff;\" x=\"223.322924\" xlink:href=\"#me0e0b8e72a\" y=\"155.732519\"/>\r\n     <use style=\"fill:#0000ff;stroke:#0000ff;\" x=\"244.692487\" xlink:href=\"#me0e0b8e72a\" y=\"156.361667\"/>\r\n     <use style=\"fill:#0000ff;stroke:#0000ff;\" x=\"266.06205\" xlink:href=\"#me0e0b8e72a\" y=\"153.971044\"/>\r\n     <use style=\"fill:#0000ff;stroke:#0000ff;\" x=\"286.922815\" xlink:href=\"#me0e0b8e72a\" y=\"150.370532\"/>\r\n     <use style=\"fill:#0000ff;stroke:#0000ff;\" x=\"307.783579\" xlink:href=\"#me0e0b8e72a\" y=\"147.930448\"/>\r\n     <use style=\"fill:#0000ff;stroke:#0000ff;\" x=\"329.153142\" xlink:href=\"#me0e0b8e72a\" y=\"145.272258\"/>\r\n     <use style=\"fill:#0000ff;stroke:#0000ff;\" x=\"350.013906\" xlink:href=\"#me0e0b8e72a\" y=\"143.315663\"/>\r\n     <use style=\"fill:#0000ff;stroke:#0000ff;\" x=\"371.383469\" xlink:href=\"#me0e0b8e72a\" y=\"146.449653\"/>\r\n     <use style=\"fill:#0000ff;stroke:#0000ff;\" x=\"392.753033\" xlink:href=\"#me0e0b8e72a\" y=\"147.084694\"/>\r\n     <use style=\"fill:#0000ff;stroke:#0000ff;\" x=\"413.613797\" xlink:href=\"#me0e0b8e72a\" y=\"138.248534\"/>\r\n     <use style=\"fill:#0000ff;stroke:#0000ff;\" x=\"434.98336\" xlink:href=\"#me0e0b8e72a\" y=\"148.680469\"/>\r\n     <use style=\"fill:#0000ff;stroke:#0000ff;\" x=\"455.844124\" xlink:href=\"#me0e0b8e72a\" y=\"137.503679\"/>\r\n     <use style=\"fill:#0000ff;stroke:#0000ff;\" x=\"477.213687\" xlink:href=\"#me0e0b8e72a\" y=\"148.769803\"/>\r\n     <use style=\"fill:#0000ff;stroke:#0000ff;\" x=\"550.98956\" xlink:href=\"#me0e0b8e72a\" y=\"161.774218\"/>\r\n    </g>\r\n   </g>\r\n   <g id=\"matplotlib.axis_1\">\r\n    <g id=\"xtick_1\">\r\n     <g id=\"line2d_1\">\r\n      <defs>\r\n       <path d=\"M 0 0 \r\nL 0 3.5 \r\n\" id=\"m03d8baf7e5\" style=\"stroke:#000000;stroke-width:0.8;\"/>\r\n      </defs>\r\n      <g>\r\n       <use style=\"stroke:#000000;stroke-width:0.8;\" x=\"86.03196\" xlink:href=\"#m03d8baf7e5\" y=\"295.92\"/>\r\n      </g>\r\n     </g>\r\n     <g id=\"text_1\">\r\n      <!-- 2 -->\r\n      <defs>\r\n       <path d=\"M 19.1875 8.296875 \r\nL 53.609375 8.296875 \r\nL 53.609375 0 \r\nL 7.328125 0 \r\nL 7.328125 8.296875 \r\nQ 12.9375 14.109375 22.625 23.890625 \r\nQ 32.328125 33.6875 34.8125 36.53125 \r\nQ 39.546875 41.84375 41.421875 45.53125 \r\nQ 43.3125 49.21875 43.3125 52.78125 \r\nQ 43.3125 58.59375 39.234375 62.25 \r\nQ 35.15625 65.921875 28.609375 65.921875 \r\nQ 23.96875 65.921875 18.8125 64.3125 \r\nQ 13.671875 62.703125 7.8125 59.421875 \r\nL 7.8125 69.390625 \r\nQ 13.765625 71.78125 18.9375 73 \r\nQ 24.125 74.21875 28.421875 74.21875 \r\nQ 39.75 74.21875 46.484375 68.546875 \r\nQ 53.21875 62.890625 53.21875 53.421875 \r\nQ 53.21875 48.921875 51.53125 44.890625 \r\nQ 49.859375 40.875 45.40625 35.40625 \r\nQ 44.1875 33.984375 37.640625 27.21875 \r\nQ 31.109375 20.453125 19.1875 8.296875 \r\nz\r\n\" id=\"DejaVuSans-50\"/>\r\n      </defs>\r\n      <g transform=\"translate(82.85071 310.518437)scale(0.1 -0.1)\">\r\n       <use xlink:href=\"#DejaVuSans-50\"/>\r\n      </g>\r\n     </g>\r\n    </g>\r\n    <g id=\"xtick_2\">\r\n     <g id=\"line2d_2\">\r\n      <g>\r\n       <use style=\"stroke:#000000;stroke-width:0.8;\" x=\"170.577415\" xlink:href=\"#m03d8baf7e5\" y=\"295.92\"/>\r\n      </g>\r\n     </g>\r\n     <g id=\"text_2\">\r\n      <!-- 3 -->\r\n      <defs>\r\n       <path d=\"M 40.578125 39.3125 \r\nQ 47.65625 37.796875 51.625 33 \r\nQ 55.609375 28.21875 55.609375 21.1875 \r\nQ 55.609375 10.40625 48.1875 4.484375 \r\nQ 40.765625 -1.421875 27.09375 -1.421875 \r\nQ 22.515625 -1.421875 17.65625 -0.515625 \r\nQ 12.796875 0.390625 7.625 2.203125 \r\nL 7.625 11.71875 \r\nQ 11.71875 9.328125 16.59375 8.109375 \r\nQ 21.484375 6.890625 26.8125 6.890625 \r\nQ 36.078125 6.890625 40.9375 10.546875 \r\nQ 45.796875 14.203125 45.796875 21.1875 \r\nQ 45.796875 27.640625 41.28125 31.265625 \r\nQ 36.765625 34.90625 28.71875 34.90625 \r\nL 20.21875 34.90625 \r\nL 20.21875 43.015625 \r\nL 29.109375 43.015625 \r\nQ 36.375 43.015625 40.234375 45.921875 \r\nQ 44.09375 48.828125 44.09375 54.296875 \r\nQ 44.09375 59.90625 40.109375 62.90625 \r\nQ 36.140625 65.921875 28.71875 65.921875 \r\nQ 24.65625 65.921875 20.015625 65.03125 \r\nQ 15.375 64.15625 9.8125 62.3125 \r\nL 9.8125 71.09375 \r\nQ 15.4375 72.65625 20.34375 73.4375 \r\nQ 25.25 74.21875 29.59375 74.21875 \r\nQ 40.828125 74.21875 47.359375 69.109375 \r\nQ 53.90625 64.015625 53.90625 55.328125 \r\nQ 53.90625 49.265625 50.4375 45.09375 \r\nQ 46.96875 40.921875 40.578125 39.3125 \r\nz\r\n\" id=\"DejaVuSans-51\"/>\r\n      </defs>\r\n      <g transform=\"translate(167.396165 310.518437)scale(0.1 -0.1)\">\r\n       <use xlink:href=\"#DejaVuSans-51\"/>\r\n      </g>\r\n     </g>\r\n    </g>\r\n    <g id=\"xtick_3\">\r\n     <g id=\"line2d_3\">\r\n      <g>\r\n       <use style=\"stroke:#000000;stroke-width:0.8;\" x=\"255.122869\" xlink:href=\"#m03d8baf7e5\" y=\"295.92\"/>\r\n      </g>\r\n     </g>\r\n     <g id=\"text_3\">\r\n      <!-- 4 -->\r\n      <defs>\r\n       <path d=\"M 37.796875 64.3125 \r\nL 12.890625 25.390625 \r\nL 37.796875 25.390625 \r\nz\r\nM 35.203125 72.90625 \r\nL 47.609375 72.90625 \r\nL 47.609375 25.390625 \r\nL 58.015625 25.390625 \r\nL 58.015625 17.1875 \r\nL 47.609375 17.1875 \r\nL 47.609375 0 \r\nL 37.796875 0 \r\nL 37.796875 17.1875 \r\nL 4.890625 17.1875 \r\nL 4.890625 26.703125 \r\nz\r\n\" id=\"DejaVuSans-52\"/>\r\n      </defs>\r\n      <g transform=\"translate(251.941619 310.518437)scale(0.1 -0.1)\">\r\n       <use xlink:href=\"#DejaVuSans-52\"/>\r\n      </g>\r\n     </g>\r\n    </g>\r\n    <g id=\"xtick_4\">\r\n     <g id=\"line2d_4\">\r\n      <g>\r\n       <use style=\"stroke:#000000;stroke-width:0.8;\" x=\"339.668324\" xlink:href=\"#m03d8baf7e5\" y=\"295.92\"/>\r\n      </g>\r\n     </g>\r\n     <g id=\"text_4\">\r\n      <!-- 5 -->\r\n      <defs>\r\n       <path d=\"M 10.796875 72.90625 \r\nL 49.515625 72.90625 \r\nL 49.515625 64.59375 \r\nL 19.828125 64.59375 \r\nL 19.828125 46.734375 \r\nQ 21.96875 47.46875 24.109375 47.828125 \r\nQ 26.265625 48.1875 28.421875 48.1875 \r\nQ 40.625 48.1875 47.75 41.5 \r\nQ 54.890625 34.8125 54.890625 23.390625 \r\nQ 54.890625 11.625 47.5625 5.09375 \r\nQ 40.234375 -1.421875 26.90625 -1.421875 \r\nQ 22.3125 -1.421875 17.546875 -0.640625 \r\nQ 12.796875 0.140625 7.71875 1.703125 \r\nL 7.71875 11.625 \r\nQ 12.109375 9.234375 16.796875 8.0625 \r\nQ 21.484375 6.890625 26.703125 6.890625 \r\nQ 35.15625 6.890625 40.078125 11.328125 \r\nQ 45.015625 15.765625 45.015625 23.390625 \r\nQ 45.015625 31 40.078125 35.4375 \r\nQ 35.15625 39.890625 26.703125 39.890625 \r\nQ 22.75 39.890625 18.8125 39.015625 \r\nQ 14.890625 38.140625 10.796875 36.28125 \r\nz\r\n\" id=\"DejaVuSans-53\"/>\r\n      </defs>\r\n      <g transform=\"translate(336.487074 310.518437)scale(0.1 -0.1)\">\r\n       <use xlink:href=\"#DejaVuSans-53\"/>\r\n      </g>\r\n     </g>\r\n    </g>\r\n    <g id=\"xtick_5\">\r\n     <g id=\"line2d_5\">\r\n      <g>\r\n       <use style=\"stroke:#000000;stroke-width:0.8;\" x=\"424.213778\" xlink:href=\"#m03d8baf7e5\" y=\"295.92\"/>\r\n      </g>\r\n     </g>\r\n     <g id=\"text_5\">\r\n      <!-- 6 -->\r\n      <defs>\r\n       <path d=\"M 33.015625 40.375 \r\nQ 26.375 40.375 22.484375 35.828125 \r\nQ 18.609375 31.296875 18.609375 23.390625 \r\nQ 18.609375 15.53125 22.484375 10.953125 \r\nQ 26.375 6.390625 33.015625 6.390625 \r\nQ 39.65625 6.390625 43.53125 10.953125 \r\nQ 47.40625 15.53125 47.40625 23.390625 \r\nQ 47.40625 31.296875 43.53125 35.828125 \r\nQ 39.65625 40.375 33.015625 40.375 \r\nz\r\nM 52.59375 71.296875 \r\nL 52.59375 62.3125 \r\nQ 48.875 64.0625 45.09375 64.984375 \r\nQ 41.3125 65.921875 37.59375 65.921875 \r\nQ 27.828125 65.921875 22.671875 59.328125 \r\nQ 17.53125 52.734375 16.796875 39.40625 \r\nQ 19.671875 43.65625 24.015625 45.921875 \r\nQ 28.375 48.1875 33.59375 48.1875 \r\nQ 44.578125 48.1875 50.953125 41.515625 \r\nQ 57.328125 34.859375 57.328125 23.390625 \r\nQ 57.328125 12.15625 50.6875 5.359375 \r\nQ 44.046875 -1.421875 33.015625 -1.421875 \r\nQ 20.359375 -1.421875 13.671875 8.265625 \r\nQ 6.984375 17.96875 6.984375 36.375 \r\nQ 6.984375 53.65625 15.1875 63.9375 \r\nQ 23.390625 74.21875 37.203125 74.21875 \r\nQ 40.921875 74.21875 44.703125 73.484375 \r\nQ 48.484375 72.75 52.59375 71.296875 \r\nz\r\n\" id=\"DejaVuSans-54\"/>\r\n      </defs>\r\n      <g transform=\"translate(421.032528 310.518437)scale(0.1 -0.1)\">\r\n       <use xlink:href=\"#DejaVuSans-54\"/>\r\n      </g>\r\n     </g>\r\n    </g>\r\n    <g id=\"xtick_6\">\r\n     <g id=\"line2d_6\">\r\n      <g>\r\n       <use style=\"stroke:#000000;stroke-width:0.8;\" x=\"508.759233\" xlink:href=\"#m03d8baf7e5\" y=\"295.92\"/>\r\n      </g>\r\n     </g>\r\n     <g id=\"text_6\">\r\n      <!-- 7 -->\r\n      <defs>\r\n       <path d=\"M 8.203125 72.90625 \r\nL 55.078125 72.90625 \r\nL 55.078125 68.703125 \r\nL 28.609375 0 \r\nL 18.3125 0 \r\nL 43.21875 64.59375 \r\nL 8.203125 64.59375 \r\nz\r\n\" id=\"DejaVuSans-55\"/>\r\n      </defs>\r\n      <g transform=\"translate(505.577983 310.518437)scale(0.1 -0.1)\">\r\n       <use xlink:href=\"#DejaVuSans-55\"/>\r\n      </g>\r\n     </g>\r\n    </g>\r\n    <g id=\"xtick_7\">\r\n     <g id=\"line2d_7\">\r\n      <g>\r\n       <use style=\"stroke:#000000;stroke-width:0.8;\" x=\"593.304688\" xlink:href=\"#m03d8baf7e5\" y=\"295.92\"/>\r\n      </g>\r\n     </g>\r\n     <g id=\"text_7\">\r\n      <!-- 8 -->\r\n      <defs>\r\n       <path d=\"M 31.78125 34.625 \r\nQ 24.75 34.625 20.71875 30.859375 \r\nQ 16.703125 27.09375 16.703125 20.515625 \r\nQ 16.703125 13.921875 20.71875 10.15625 \r\nQ 24.75 6.390625 31.78125 6.390625 \r\nQ 38.8125 6.390625 42.859375 10.171875 \r\nQ 46.921875 13.96875 46.921875 20.515625 \r\nQ 46.921875 27.09375 42.890625 30.859375 \r\nQ 38.875 34.625 31.78125 34.625 \r\nz\r\nM 21.921875 38.8125 \r\nQ 15.578125 40.375 12.03125 44.71875 \r\nQ 8.5 49.078125 8.5 55.328125 \r\nQ 8.5 64.0625 14.71875 69.140625 \r\nQ 20.953125 74.21875 31.78125 74.21875 \r\nQ 42.671875 74.21875 48.875 69.140625 \r\nQ 55.078125 64.0625 55.078125 55.328125 \r\nQ 55.078125 49.078125 51.53125 44.71875 \r\nQ 48 40.375 41.703125 38.8125 \r\nQ 48.828125 37.15625 52.796875 32.3125 \r\nQ 56.78125 27.484375 56.78125 20.515625 \r\nQ 56.78125 9.90625 50.3125 4.234375 \r\nQ 43.84375 -1.421875 31.78125 -1.421875 \r\nQ 19.734375 -1.421875 13.25 4.234375 \r\nQ 6.78125 9.90625 6.78125 20.515625 \r\nQ 6.78125 27.484375 10.78125 32.3125 \r\nQ 14.796875 37.15625 21.921875 38.8125 \r\nz\r\nM 18.3125 54.390625 \r\nQ 18.3125 48.734375 21.84375 45.5625 \r\nQ 25.390625 42.390625 31.78125 42.390625 \r\nQ 38.140625 42.390625 41.71875 45.5625 \r\nQ 45.3125 48.734375 45.3125 54.390625 \r\nQ 45.3125 60.0625 41.71875 63.234375 \r\nQ 38.140625 66.40625 31.78125 66.40625 \r\nQ 25.390625 66.40625 21.84375 63.234375 \r\nQ 18.3125 60.0625 18.3125 54.390625 \r\nz\r\n\" id=\"DejaVuSans-56\"/>\r\n      </defs>\r\n      <g transform=\"translate(590.123438 310.518437)scale(0.1 -0.1)\">\r\n       <use xlink:href=\"#DejaVuSans-56\"/>\r\n      </g>\r\n     </g>\r\n    </g>\r\n   </g>\r\n   <g id=\"matplotlib.axis_2\">\r\n    <g id=\"ytick_1\">\r\n     <g id=\"line2d_8\">\r\n      <defs>\r\n       <path d=\"M 0 0 \r\nL -3.5 0 \r\n\" id=\"m8f052e348d\" style=\"stroke:#000000;stroke-width:0.8;\"/>\r\n      </defs>\r\n      <g>\r\n       <use style=\"stroke:#000000;stroke-width:0.8;\" x=\"35.304688\" xlink:href=\"#m8f052e348d\" y=\"255.15\"/>\r\n      </g>\r\n     </g>\r\n     <g id=\"text_8\">\r\n      <!-- −20 -->\r\n      <defs>\r\n       <path d=\"M 10.59375 35.5 \r\nL 73.1875 35.5 \r\nL 73.1875 27.203125 \r\nL 10.59375 27.203125 \r\nz\r\n\" id=\"DejaVuSans-8722\"/>\r\n       <path d=\"M 31.78125 66.40625 \r\nQ 24.171875 66.40625 20.328125 58.90625 \r\nQ 16.5 51.421875 16.5 36.375 \r\nQ 16.5 21.390625 20.328125 13.890625 \r\nQ 24.171875 6.390625 31.78125 6.390625 \r\nQ 39.453125 6.390625 43.28125 13.890625 \r\nQ 47.125 21.390625 47.125 36.375 \r\nQ 47.125 51.421875 43.28125 58.90625 \r\nQ 39.453125 66.40625 31.78125 66.40625 \r\nz\r\nM 31.78125 74.21875 \r\nQ 44.046875 74.21875 50.515625 64.515625 \r\nQ 56.984375 54.828125 56.984375 36.375 \r\nQ 56.984375 17.96875 50.515625 8.265625 \r\nQ 44.046875 -1.421875 31.78125 -1.421875 \r\nQ 19.53125 -1.421875 13.0625 8.265625 \r\nQ 6.59375 17.96875 6.59375 36.375 \r\nQ 6.59375 54.828125 13.0625 64.515625 \r\nQ 19.53125 74.21875 31.78125 74.21875 \r\nz\r\n\" id=\"DejaVuSans-48\"/>\r\n      </defs>\r\n      <g transform=\"translate(7.2 258.949219)scale(0.1 -0.1)\">\r\n       <use xlink:href=\"#DejaVuSans-8722\"/>\r\n       <use x=\"83.789062\" xlink:href=\"#DejaVuSans-50\"/>\r\n       <use x=\"147.412109\" xlink:href=\"#DejaVuSans-48\"/>\r\n      </g>\r\n     </g>\r\n    </g>\r\n    <g id=\"ytick_2\">\r\n     <g id=\"line2d_9\">\r\n      <g>\r\n       <use style=\"stroke:#000000;stroke-width:0.8;\" x=\"35.304688\" xlink:href=\"#m8f052e348d\" y=\"209.85\"/>\r\n      </g>\r\n     </g>\r\n     <g id=\"text_9\">\r\n      <!-- −10 -->\r\n      <defs>\r\n       <path d=\"M 12.40625 8.296875 \r\nL 28.515625 8.296875 \r\nL 28.515625 63.921875 \r\nL 10.984375 60.40625 \r\nL 10.984375 69.390625 \r\nL 28.421875 72.90625 \r\nL 38.28125 72.90625 \r\nL 38.28125 8.296875 \r\nL 54.390625 8.296875 \r\nL 54.390625 0 \r\nL 12.40625 0 \r\nz\r\n\" id=\"DejaVuSans-49\"/>\r\n      </defs>\r\n      <g transform=\"translate(7.2 213.649219)scale(0.1 -0.1)\">\r\n       <use xlink:href=\"#DejaVuSans-8722\"/>\r\n       <use x=\"83.789062\" xlink:href=\"#DejaVuSans-49\"/>\r\n       <use x=\"147.412109\" xlink:href=\"#DejaVuSans-48\"/>\r\n      </g>\r\n     </g>\r\n    </g>\r\n    <g id=\"ytick_3\">\r\n     <g id=\"line2d_10\">\r\n      <g>\r\n       <use style=\"stroke:#000000;stroke-width:0.8;\" x=\"35.304688\" xlink:href=\"#m8f052e348d\" y=\"164.55\"/>\r\n      </g>\r\n     </g>\r\n     <g id=\"text_10\">\r\n      <!-- 0 -->\r\n      <g transform=\"translate(21.942187 168.349219)scale(0.1 -0.1)\">\r\n       <use xlink:href=\"#DejaVuSans-48\"/>\r\n      </g>\r\n     </g>\r\n    </g>\r\n    <g id=\"ytick_4\">\r\n     <g id=\"line2d_11\">\r\n      <g>\r\n       <use style=\"stroke:#000000;stroke-width:0.8;\" x=\"35.304688\" xlink:href=\"#m8f052e348d\" y=\"119.25\"/>\r\n      </g>\r\n     </g>\r\n     <g id=\"text_11\">\r\n      <!-- 10 -->\r\n      <g transform=\"translate(15.579687 123.049219)scale(0.1 -0.1)\">\r\n       <use xlink:href=\"#DejaVuSans-49\"/>\r\n       <use x=\"63.623047\" xlink:href=\"#DejaVuSans-48\"/>\r\n      </g>\r\n     </g>\r\n    </g>\r\n    <g id=\"ytick_5\">\r\n     <g id=\"line2d_12\">\r\n      <g>\r\n       <use style=\"stroke:#000000;stroke-width:0.8;\" x=\"35.304688\" xlink:href=\"#m8f052e348d\" y=\"73.95\"/>\r\n      </g>\r\n     </g>\r\n     <g id=\"text_12\">\r\n      <!-- 20 -->\r\n      <g transform=\"translate(15.579687 77.749219)scale(0.1 -0.1)\">\r\n       <use xlink:href=\"#DejaVuSans-50\"/>\r\n       <use x=\"63.623047\" xlink:href=\"#DejaVuSans-48\"/>\r\n      </g>\r\n     </g>\r\n    </g>\r\n    <g id=\"ytick_6\">\r\n     <g id=\"line2d_13\">\r\n      <g>\r\n       <use style=\"stroke:#000000;stroke-width:0.8;\" x=\"35.304688\" xlink:href=\"#m8f052e348d\" y=\"28.65\"/>\r\n      </g>\r\n     </g>\r\n     <g id=\"text_13\">\r\n      <!-- 30 -->\r\n      <g transform=\"translate(15.579687 32.449219)scale(0.1 -0.1)\">\r\n       <use xlink:href=\"#DejaVuSans-51\"/>\r\n       <use x=\"63.623047\" xlink:href=\"#DejaVuSans-48\"/>\r\n      </g>\r\n     </g>\r\n    </g>\r\n   </g>\r\n   <g id=\"LineCollection_1\">\r\n    <path clip-path=\"url(#pc55f53cfe6)\" d=\"M 43.759233 183.576 \r\nL 43.759233 136.464 \r\n\" style=\"fill:none;stroke:#000000;stroke-width:0.5;\"/>\r\n    <path clip-path=\"url(#pc55f53cfe6)\" d=\"M 64.895597 183.576 \r\nL 64.895597 136.464 \r\n\" style=\"fill:none;stroke:#000000;stroke-width:0.5;\"/>\r\n    <path clip-path=\"url(#pc55f53cfe6)\" d=\"M 86.03196 180.405 \r\nL 86.03196 139.635 \r\n\" style=\"fill:none;stroke:#000000;stroke-width:0.5;\"/>\r\n    <path clip-path=\"url(#pc55f53cfe6)\" d=\"M 107.168324 180.405 \r\nL 107.168324 139.635 \r\n\" style=\"fill:none;stroke:#000000;stroke-width:0.5;\"/>\r\n    <path clip-path=\"url(#pc55f53cfe6)\" d=\"M 128.304688 179.499 \r\nL 128.304688 140.541 \r\n\" style=\"fill:none;stroke:#000000;stroke-width:0.5;\"/>\r\n    <path clip-path=\"url(#pc55f53cfe6)\" d=\"M 149.441051 179.499 \r\nL 149.441051 140.541 \r\n\" style=\"fill:none;stroke:#000000;stroke-width:0.5;\"/>\r\n    <path clip-path=\"url(#pc55f53cfe6)\" d=\"M 170.577415 179.499 \r\nL 170.577415 140.541 \r\n\" style=\"fill:none;stroke:#000000;stroke-width:0.5;\"/>\r\n    <path clip-path=\"url(#pc55f53cfe6)\" d=\"M 191.713778 179.499 \r\nL 191.713778 140.541 \r\n\" style=\"fill:none;stroke:#000000;stroke-width:0.5;\"/>\r\n    <path clip-path=\"url(#pc55f53cfe6)\" d=\"M 212.850142 179.499 \r\nL 212.850142 140.541 \r\n\" style=\"fill:none;stroke:#000000;stroke-width:0.5;\"/>\r\n    <path clip-path=\"url(#pc55f53cfe6)\" d=\"M 233.986506 179.499 \r\nL 233.986506 140.541 \r\n\" style=\"fill:none;stroke:#000000;stroke-width:0.5;\"/>\r\n    <path clip-path=\"url(#pc55f53cfe6)\" d=\"M 255.122869 179.952 \r\nL 255.122869 140.088 \r\n\" style=\"fill:none;stroke:#000000;stroke-width:0.5;\"/>\r\n    <path clip-path=\"url(#pc55f53cfe6)\" d=\"M 276.259233 179.952 \r\nL 276.259233 140.088 \r\n\" style=\"fill:none;stroke:#000000;stroke-width:0.5;\"/>\r\n    <path clip-path=\"url(#pc55f53cfe6)\" d=\"M 297.395597 181.764 \r\nL 297.395597 138.276 \r\n\" style=\"fill:none;stroke:#000000;stroke-width:0.5;\"/>\r\n    <path clip-path=\"url(#pc55f53cfe6)\" d=\"M 318.53196 181.764 \r\nL 318.53196 138.276 \r\n\" style=\"fill:none;stroke:#000000;stroke-width:0.5;\"/>\r\n    <path clip-path=\"url(#pc55f53cfe6)\" d=\"M 339.668324 183.576 \r\nL 339.668324 136.464 \r\n\" style=\"fill:none;stroke:#000000;stroke-width:0.5;\"/>\r\n    <path clip-path=\"url(#pc55f53cfe6)\" d=\"M 360.804688 183.576 \r\nL 360.804688 136.464 \r\n\" style=\"fill:none;stroke:#000000;stroke-width:0.5;\"/>\r\n    <path clip-path=\"url(#pc55f53cfe6)\" d=\"M 381.941051 186.747 \r\nL 381.941051 133.293 \r\n\" style=\"fill:none;stroke:#000000;stroke-width:0.5;\"/>\r\n    <path clip-path=\"url(#pc55f53cfe6)\" d=\"M 403.077415 186.747 \r\nL 403.077415 133.293 \r\n\" style=\"fill:none;stroke:#000000;stroke-width:0.5;\"/>\r\n    <path clip-path=\"url(#pc55f53cfe6)\" d=\"M 424.213778 190.824 \r\nL 424.213778 129.216 \r\n\" style=\"fill:none;stroke:#000000;stroke-width:0.5;\"/>\r\n    <path clip-path=\"url(#pc55f53cfe6)\" d=\"M 445.350142 190.824 \r\nL 445.350142 129.216 \r\n\" style=\"fill:none;stroke:#000000;stroke-width:0.5;\"/>\r\n    <path clip-path=\"url(#pc55f53cfe6)\" d=\"M 466.486506 193.542 \r\nL 466.486506 126.498 \r\n\" style=\"fill:none;stroke:#000000;stroke-width:0.5;\"/>\r\n    <path clip-path=\"url(#pc55f53cfe6)\" d=\"M 487.622869 193.542 \r\nL 487.622869 126.498 \r\n\" style=\"fill:none;stroke:#000000;stroke-width:0.5;\"/>\r\n    <path clip-path=\"url(#pc55f53cfe6)\" d=\"M 508.759233 209.85 \r\nL 508.759233 110.19 \r\n\" style=\"fill:none;stroke:#000000;stroke-width:0.5;\"/>\r\n    <path clip-path=\"url(#pc55f53cfe6)\" d=\"M 529.895597 232.5 \r\nL 529.895597 87.54 \r\n\" style=\"fill:none;stroke:#000000;stroke-width:0.5;\"/>\r\n    <path clip-path=\"url(#pc55f53cfe6)\" d=\"M 551.03196 246.09 \r\nL 551.03196 73.95 \r\n\" style=\"fill:none;stroke:#000000;stroke-width:0.5;\"/>\r\n    <path clip-path=\"url(#pc55f53cfe6)\" d=\"M 572.168324 282.33 \r\nL 572.168324 37.71 \r\n\" style=\"fill:none;stroke:#000000;stroke-width:0.5;\"/>\r\n    <path clip-path=\"url(#pc55f53cfe6)\" d=\"M 593.304688 318.57 \r\nL 593.304688 1.47 \r\n\" style=\"fill:none;stroke:#000000;stroke-width:0.5;\"/>\r\n   </g>\r\n   <g id=\"line2d_14\">\r\n    <defs>\r\n     <path d=\"M 4.5 0 \r\nL -4.5 -0 \r\n\" id=\"mfc4fe97370\" style=\"stroke:#000000;stroke-width:0.5;\"/>\r\n    </defs>\r\n    <g clip-path=\"url(#pc55f53cfe6)\">\r\n     <use style=\"stroke:#000000;stroke-width:0.5;\" x=\"43.759233\" xlink:href=\"#mfc4fe97370\" y=\"183.576\"/>\r\n     <use style=\"stroke:#000000;stroke-width:0.5;\" x=\"64.895597\" xlink:href=\"#mfc4fe97370\" y=\"183.576\"/>\r\n     <use style=\"stroke:#000000;stroke-width:0.5;\" x=\"86.03196\" xlink:href=\"#mfc4fe97370\" y=\"180.405\"/>\r\n     <use style=\"stroke:#000000;stroke-width:0.5;\" x=\"107.168324\" xlink:href=\"#mfc4fe97370\" y=\"180.405\"/>\r\n     <use style=\"stroke:#000000;stroke-width:0.5;\" x=\"128.304688\" xlink:href=\"#mfc4fe97370\" y=\"179.499\"/>\r\n     <use style=\"stroke:#000000;stroke-width:0.5;\" x=\"149.441051\" xlink:href=\"#mfc4fe97370\" y=\"179.499\"/>\r\n     <use style=\"stroke:#000000;stroke-width:0.5;\" x=\"170.577415\" xlink:href=\"#mfc4fe97370\" y=\"179.499\"/>\r\n     <use style=\"stroke:#000000;stroke-width:0.5;\" x=\"191.713778\" xlink:href=\"#mfc4fe97370\" y=\"179.499\"/>\r\n     <use style=\"stroke:#000000;stroke-width:0.5;\" x=\"212.850142\" xlink:href=\"#mfc4fe97370\" y=\"179.499\"/>\r\n     <use style=\"stroke:#000000;stroke-width:0.5;\" x=\"233.986506\" xlink:href=\"#mfc4fe97370\" y=\"179.499\"/>\r\n     <use style=\"stroke:#000000;stroke-width:0.5;\" x=\"255.122869\" xlink:href=\"#mfc4fe97370\" y=\"179.952\"/>\r\n     <use style=\"stroke:#000000;stroke-width:0.5;\" x=\"276.259233\" xlink:href=\"#mfc4fe97370\" y=\"179.952\"/>\r\n     <use style=\"stroke:#000000;stroke-width:0.5;\" x=\"297.395597\" xlink:href=\"#mfc4fe97370\" y=\"181.764\"/>\r\n     <use style=\"stroke:#000000;stroke-width:0.5;\" x=\"318.53196\" xlink:href=\"#mfc4fe97370\" y=\"181.764\"/>\r\n     <use style=\"stroke:#000000;stroke-width:0.5;\" x=\"339.668324\" xlink:href=\"#mfc4fe97370\" y=\"183.576\"/>\r\n     <use style=\"stroke:#000000;stroke-width:0.5;\" x=\"360.804688\" xlink:href=\"#mfc4fe97370\" y=\"183.576\"/>\r\n     <use style=\"stroke:#000000;stroke-width:0.5;\" x=\"381.941051\" xlink:href=\"#mfc4fe97370\" y=\"186.747\"/>\r\n     <use style=\"stroke:#000000;stroke-width:0.5;\" x=\"403.077415\" xlink:href=\"#mfc4fe97370\" y=\"186.747\"/>\r\n     <use style=\"stroke:#000000;stroke-width:0.5;\" x=\"424.213778\" xlink:href=\"#mfc4fe97370\" y=\"190.824\"/>\r\n     <use style=\"stroke:#000000;stroke-width:0.5;\" x=\"445.350142\" xlink:href=\"#mfc4fe97370\" y=\"190.824\"/>\r\n     <use style=\"stroke:#000000;stroke-width:0.5;\" x=\"466.486506\" xlink:href=\"#mfc4fe97370\" y=\"193.542\"/>\r\n     <use style=\"stroke:#000000;stroke-width:0.5;\" x=\"487.622869\" xlink:href=\"#mfc4fe97370\" y=\"193.542\"/>\r\n     <use style=\"stroke:#000000;stroke-width:0.5;\" x=\"508.759233\" xlink:href=\"#mfc4fe97370\" y=\"209.85\"/>\r\n     <use style=\"stroke:#000000;stroke-width:0.5;\" x=\"529.895597\" xlink:href=\"#mfc4fe97370\" y=\"232.5\"/>\r\n     <use style=\"stroke:#000000;stroke-width:0.5;\" x=\"551.03196\" xlink:href=\"#mfc4fe97370\" y=\"246.09\"/>\r\n     <use style=\"stroke:#000000;stroke-width:0.5;\" x=\"572.168324\" xlink:href=\"#mfc4fe97370\" y=\"282.33\"/>\r\n     <use style=\"stroke:#000000;stroke-width:0.5;\" x=\"593.304688\" xlink:href=\"#mfc4fe97370\" y=\"318.57\"/>\r\n    </g>\r\n   </g>\r\n   <g id=\"line2d_15\">\r\n    <g clip-path=\"url(#pc55f53cfe6)\">\r\n     <use style=\"stroke:#000000;stroke-width:0.5;\" x=\"43.759233\" xlink:href=\"#mfc4fe97370\" y=\"136.464\"/>\r\n     <use style=\"stroke:#000000;stroke-width:0.5;\" x=\"64.895597\" xlink:href=\"#mfc4fe97370\" y=\"136.464\"/>\r\n     <use style=\"stroke:#000000;stroke-width:0.5;\" x=\"86.03196\" xlink:href=\"#mfc4fe97370\" y=\"139.635\"/>\r\n     <use style=\"stroke:#000000;stroke-width:0.5;\" x=\"107.168324\" xlink:href=\"#mfc4fe97370\" y=\"139.635\"/>\r\n     <use style=\"stroke:#000000;stroke-width:0.5;\" x=\"128.304688\" xlink:href=\"#mfc4fe97370\" y=\"140.541\"/>\r\n     <use style=\"stroke:#000000;stroke-width:0.5;\" x=\"149.441051\" xlink:href=\"#mfc4fe97370\" y=\"140.541\"/>\r\n     <use style=\"stroke:#000000;stroke-width:0.5;\" x=\"170.577415\" xlink:href=\"#mfc4fe97370\" y=\"140.541\"/>\r\n     <use style=\"stroke:#000000;stroke-width:0.5;\" x=\"191.713778\" xlink:href=\"#mfc4fe97370\" y=\"140.541\"/>\r\n     <use style=\"stroke:#000000;stroke-width:0.5;\" x=\"212.850142\" xlink:href=\"#mfc4fe97370\" y=\"140.541\"/>\r\n     <use style=\"stroke:#000000;stroke-width:0.5;\" x=\"233.986506\" xlink:href=\"#mfc4fe97370\" y=\"140.541\"/>\r\n     <use style=\"stroke:#000000;stroke-width:0.5;\" x=\"255.122869\" xlink:href=\"#mfc4fe97370\" y=\"140.088\"/>\r\n     <use style=\"stroke:#000000;stroke-width:0.5;\" x=\"276.259233\" xlink:href=\"#mfc4fe97370\" y=\"140.088\"/>\r\n     <use style=\"stroke:#000000;stroke-width:0.5;\" x=\"297.395597\" xlink:href=\"#mfc4fe97370\" y=\"138.276\"/>\r\n     <use style=\"stroke:#000000;stroke-width:0.5;\" x=\"318.53196\" xlink:href=\"#mfc4fe97370\" y=\"138.276\"/>\r\n     <use style=\"stroke:#000000;stroke-width:0.5;\" x=\"339.668324\" xlink:href=\"#mfc4fe97370\" y=\"136.464\"/>\r\n     <use style=\"stroke:#000000;stroke-width:0.5;\" x=\"360.804688\" xlink:href=\"#mfc4fe97370\" y=\"136.464\"/>\r\n     <use style=\"stroke:#000000;stroke-width:0.5;\" x=\"381.941051\" xlink:href=\"#mfc4fe97370\" y=\"133.293\"/>\r\n     <use style=\"stroke:#000000;stroke-width:0.5;\" x=\"403.077415\" xlink:href=\"#mfc4fe97370\" y=\"133.293\"/>\r\n     <use style=\"stroke:#000000;stroke-width:0.5;\" x=\"424.213778\" xlink:href=\"#mfc4fe97370\" y=\"129.216\"/>\r\n     <use style=\"stroke:#000000;stroke-width:0.5;\" x=\"445.350142\" xlink:href=\"#mfc4fe97370\" y=\"129.216\"/>\r\n     <use style=\"stroke:#000000;stroke-width:0.5;\" x=\"466.486506\" xlink:href=\"#mfc4fe97370\" y=\"126.498\"/>\r\n     <use style=\"stroke:#000000;stroke-width:0.5;\" x=\"487.622869\" xlink:href=\"#mfc4fe97370\" y=\"126.498\"/>\r\n     <use style=\"stroke:#000000;stroke-width:0.5;\" x=\"508.759233\" xlink:href=\"#mfc4fe97370\" y=\"110.19\"/>\r\n     <use style=\"stroke:#000000;stroke-width:0.5;\" x=\"529.895597\" xlink:href=\"#mfc4fe97370\" y=\"87.54\"/>\r\n     <use style=\"stroke:#000000;stroke-width:0.5;\" x=\"551.03196\" xlink:href=\"#mfc4fe97370\" y=\"73.95\"/>\r\n     <use style=\"stroke:#000000;stroke-width:0.5;\" x=\"572.168324\" xlink:href=\"#mfc4fe97370\" y=\"37.71\"/>\r\n     <use style=\"stroke:#000000;stroke-width:0.5;\" x=\"593.304688\" xlink:href=\"#mfc4fe97370\" y=\"1.47\"/>\r\n    </g>\r\n   </g>\r\n   <g id=\"line2d_16\">\r\n    <path clip-path=\"url(#pc55f53cfe6)\" d=\"M 35.304688 160.02 \r\nL 593.304688 160.02 \r\n\" style=\"fill:none;stroke:#000000;stroke-linecap:square;stroke-width:0.5;\"/>\r\n   </g>\r\n   <g id=\"line2d_17\"/>\r\n   <g id=\"patch_3\">\r\n    <path d=\"M 35.304688 295.92 \r\nL 35.304688 24.12 \r\n\" style=\"fill:none;stroke:#000000;stroke-linecap:square;stroke-linejoin:miter;stroke-width:0.8;\"/>\r\n   </g>\r\n   <g id=\"patch_4\">\r\n    <path d=\"M 593.304688 295.92 \r\nL 593.304688 24.12 \r\n\" style=\"fill:none;stroke:#000000;stroke-linecap:square;stroke-linejoin:miter;stroke-width:0.8;\"/>\r\n   </g>\r\n   <g id=\"patch_5\">\r\n    <path d=\"M 35.304687 295.92 \r\nL 593.304688 295.92 \r\n\" style=\"fill:none;stroke:#000000;stroke-linecap:square;stroke-linejoin:miter;stroke-width:0.8;\"/>\r\n   </g>\r\n   <g id=\"patch_6\">\r\n    <path d=\"M 35.304687 24.12 \r\nL 593.304688 24.12 \r\n\" style=\"fill:none;stroke:#000000;stroke-linecap:square;stroke-linejoin:miter;stroke-width:0.8;\"/>\r\n   </g>\r\n   <g id=\"text_14\">\r\n    <!-- Antineutrino Spectrum From $^{239}Pu $ -->\r\n    <defs>\r\n     <path d=\"M 34.1875 63.1875 \r\nL 20.796875 26.90625 \r\nL 47.609375 26.90625 \r\nz\r\nM 28.609375 72.90625 \r\nL 39.796875 72.90625 \r\nL 67.578125 0 \r\nL 57.328125 0 \r\nL 50.6875 18.703125 \r\nL 17.828125 18.703125 \r\nL 11.1875 0 \r\nL 0.78125 0 \r\nz\r\n\" id=\"DejaVuSans-65\"/>\r\n     <path d=\"M 54.890625 33.015625 \r\nL 54.890625 0 \r\nL 45.90625 0 \r\nL 45.90625 32.71875 \r\nQ 45.90625 40.484375 42.875 44.328125 \r\nQ 39.84375 48.1875 33.796875 48.1875 \r\nQ 26.515625 48.1875 22.3125 43.546875 \r\nQ 18.109375 38.921875 18.109375 30.90625 \r\nL 18.109375 0 \r\nL 9.078125 0 \r\nL 9.078125 54.6875 \r\nL 18.109375 54.6875 \r\nL 18.109375 46.1875 \r\nQ 21.34375 51.125 25.703125 53.5625 \r\nQ 30.078125 56 35.796875 56 \r\nQ 45.21875 56 50.046875 50.171875 \r\nQ 54.890625 44.34375 54.890625 33.015625 \r\nz\r\n\" id=\"DejaVuSans-110\"/>\r\n     <path d=\"M 18.3125 70.21875 \r\nL 18.3125 54.6875 \r\nL 36.8125 54.6875 \r\nL 36.8125 47.703125 \r\nL 18.3125 47.703125 \r\nL 18.3125 18.015625 \r\nQ 18.3125 11.328125 20.140625 9.421875 \r\nQ 21.96875 7.515625 27.59375 7.515625 \r\nL 36.8125 7.515625 \r\nL 36.8125 0 \r\nL 27.59375 0 \r\nQ 17.1875 0 13.234375 3.875 \r\nQ 9.28125 7.765625 9.28125 18.015625 \r\nL 9.28125 47.703125 \r\nL 2.6875 47.703125 \r\nL 2.6875 54.6875 \r\nL 9.28125 54.6875 \r\nL 9.28125 70.21875 \r\nz\r\n\" id=\"DejaVuSans-116\"/>\r\n     <path d=\"M 9.421875 54.6875 \r\nL 18.40625 54.6875 \r\nL 18.40625 0 \r\nL 9.421875 0 \r\nz\r\nM 9.421875 75.984375 \r\nL 18.40625 75.984375 \r\nL 18.40625 64.59375 \r\nL 9.421875 64.59375 \r\nz\r\n\" id=\"DejaVuSans-105\"/>\r\n     <path d=\"M 56.203125 29.59375 \r\nL 56.203125 25.203125 \r\nL 14.890625 25.203125 \r\nQ 15.484375 15.921875 20.484375 11.0625 \r\nQ 25.484375 6.203125 34.421875 6.203125 \r\nQ 39.59375 6.203125 44.453125 7.46875 \r\nQ 49.3125 8.734375 54.109375 11.28125 \r\nL 54.109375 2.78125 \r\nQ 49.265625 0.734375 44.1875 -0.34375 \r\nQ 39.109375 -1.421875 33.890625 -1.421875 \r\nQ 20.796875 -1.421875 13.15625 6.1875 \r\nQ 5.515625 13.8125 5.515625 26.8125 \r\nQ 5.515625 40.234375 12.765625 48.109375 \r\nQ 20.015625 56 32.328125 56 \r\nQ 43.359375 56 49.78125 48.890625 \r\nQ 56.203125 41.796875 56.203125 29.59375 \r\nz\r\nM 47.21875 32.234375 \r\nQ 47.125 39.59375 43.09375 43.984375 \r\nQ 39.0625 48.390625 32.421875 48.390625 \r\nQ 24.90625 48.390625 20.390625 44.140625 \r\nQ 15.875 39.890625 15.1875 32.171875 \r\nz\r\n\" id=\"DejaVuSans-101\"/>\r\n     <path d=\"M 8.5 21.578125 \r\nL 8.5 54.6875 \r\nL 17.484375 54.6875 \r\nL 17.484375 21.921875 \r\nQ 17.484375 14.15625 20.5 10.265625 \r\nQ 23.53125 6.390625 29.59375 6.390625 \r\nQ 36.859375 6.390625 41.078125 11.03125 \r\nQ 45.3125 15.671875 45.3125 23.6875 \r\nL 45.3125 54.6875 \r\nL 54.296875 54.6875 \r\nL 54.296875 0 \r\nL 45.3125 0 \r\nL 45.3125 8.40625 \r\nQ 42.046875 3.421875 37.71875 1 \r\nQ 33.40625 -1.421875 27.6875 -1.421875 \r\nQ 18.265625 -1.421875 13.375 4.4375 \r\nQ 8.5 10.296875 8.5 21.578125 \r\nz\r\nM 31.109375 56 \r\nz\r\n\" id=\"DejaVuSans-117\"/>\r\n     <path d=\"M 41.109375 46.296875 \r\nQ 39.59375 47.171875 37.8125 47.578125 \r\nQ 36.03125 48 33.890625 48 \r\nQ 26.265625 48 22.1875 43.046875 \r\nQ 18.109375 38.09375 18.109375 28.8125 \r\nL 18.109375 0 \r\nL 9.078125 0 \r\nL 9.078125 54.6875 \r\nL 18.109375 54.6875 \r\nL 18.109375 46.1875 \r\nQ 20.953125 51.171875 25.484375 53.578125 \r\nQ 30.03125 56 36.53125 56 \r\nQ 37.453125 56 38.578125 55.875 \r\nQ 39.703125 55.765625 41.0625 55.515625 \r\nz\r\n\" id=\"DejaVuSans-114\"/>\r\n     <path d=\"M 30.609375 48.390625 \r\nQ 23.390625 48.390625 19.1875 42.75 \r\nQ 14.984375 37.109375 14.984375 27.296875 \r\nQ 14.984375 17.484375 19.15625 11.84375 \r\nQ 23.34375 6.203125 30.609375 6.203125 \r\nQ 37.796875 6.203125 41.984375 11.859375 \r\nQ 46.1875 17.53125 46.1875 27.296875 \r\nQ 46.1875 37.015625 41.984375 42.703125 \r\nQ 37.796875 48.390625 30.609375 48.390625 \r\nz\r\nM 30.609375 56 \r\nQ 42.328125 56 49.015625 48.375 \r\nQ 55.71875 40.765625 55.71875 27.296875 \r\nQ 55.71875 13.875 49.015625 6.21875 \r\nQ 42.328125 -1.421875 30.609375 -1.421875 \r\nQ 18.84375 -1.421875 12.171875 6.21875 \r\nQ 5.515625 13.875 5.515625 27.296875 \r\nQ 5.515625 40.765625 12.171875 48.375 \r\nQ 18.84375 56 30.609375 56 \r\nz\r\n\" id=\"DejaVuSans-111\"/>\r\n     <path id=\"DejaVuSans-32\"/>\r\n     <path d=\"M 53.515625 70.515625 \r\nL 53.515625 60.890625 \r\nQ 47.90625 63.578125 42.921875 64.890625 \r\nQ 37.9375 66.21875 33.296875 66.21875 \r\nQ 25.25 66.21875 20.875 63.09375 \r\nQ 16.5 59.96875 16.5 54.203125 \r\nQ 16.5 49.359375 19.40625 46.890625 \r\nQ 22.3125 44.4375 30.421875 42.921875 \r\nL 36.375 41.703125 \r\nQ 47.40625 39.59375 52.65625 34.296875 \r\nQ 57.90625 29 57.90625 20.125 \r\nQ 57.90625 9.515625 50.796875 4.046875 \r\nQ 43.703125 -1.421875 29.984375 -1.421875 \r\nQ 24.8125 -1.421875 18.96875 -0.25 \r\nQ 13.140625 0.921875 6.890625 3.21875 \r\nL 6.890625 13.375 \r\nQ 12.890625 10.015625 18.65625 8.296875 \r\nQ 24.421875 6.59375 29.984375 6.59375 \r\nQ 38.421875 6.59375 43.015625 9.90625 \r\nQ 47.609375 13.234375 47.609375 19.390625 \r\nQ 47.609375 24.75 44.3125 27.78125 \r\nQ 41.015625 30.8125 33.5 32.328125 \r\nL 27.484375 33.5 \r\nQ 16.453125 35.6875 11.515625 40.375 \r\nQ 6.59375 45.0625 6.59375 53.421875 \r\nQ 6.59375 63.09375 13.40625 68.65625 \r\nQ 20.21875 74.21875 32.171875 74.21875 \r\nQ 37.3125 74.21875 42.625 73.28125 \r\nQ 47.953125 72.359375 53.515625 70.515625 \r\nz\r\n\" id=\"DejaVuSans-83\"/>\r\n     <path d=\"M 18.109375 8.203125 \r\nL 18.109375 -20.796875 \r\nL 9.078125 -20.796875 \r\nL 9.078125 54.6875 \r\nL 18.109375 54.6875 \r\nL 18.109375 46.390625 \r\nQ 20.953125 51.265625 25.265625 53.625 \r\nQ 29.59375 56 35.59375 56 \r\nQ 45.5625 56 51.78125 48.09375 \r\nQ 58.015625 40.1875 58.015625 27.296875 \r\nQ 58.015625 14.40625 51.78125 6.484375 \r\nQ 45.5625 -1.421875 35.59375 -1.421875 \r\nQ 29.59375 -1.421875 25.265625 0.953125 \r\nQ 20.953125 3.328125 18.109375 8.203125 \r\nz\r\nM 48.6875 27.296875 \r\nQ 48.6875 37.203125 44.609375 42.84375 \r\nQ 40.53125 48.484375 33.40625 48.484375 \r\nQ 26.265625 48.484375 22.1875 42.84375 \r\nQ 18.109375 37.203125 18.109375 27.296875 \r\nQ 18.109375 17.390625 22.1875 11.75 \r\nQ 26.265625 6.109375 33.40625 6.109375 \r\nQ 40.53125 6.109375 44.609375 11.75 \r\nQ 48.6875 17.390625 48.6875 27.296875 \r\nz\r\n\" id=\"DejaVuSans-112\"/>\r\n     <path d=\"M 48.78125 52.59375 \r\nL 48.78125 44.1875 \r\nQ 44.96875 46.296875 41.140625 47.34375 \r\nQ 37.3125 48.390625 33.40625 48.390625 \r\nQ 24.65625 48.390625 19.8125 42.84375 \r\nQ 14.984375 37.3125 14.984375 27.296875 \r\nQ 14.984375 17.28125 19.8125 11.734375 \r\nQ 24.65625 6.203125 33.40625 6.203125 \r\nQ 37.3125 6.203125 41.140625 7.25 \r\nQ 44.96875 8.296875 48.78125 10.40625 \r\nL 48.78125 2.09375 \r\nQ 45.015625 0.34375 40.984375 -0.53125 \r\nQ 36.96875 -1.421875 32.421875 -1.421875 \r\nQ 20.0625 -1.421875 12.78125 6.34375 \r\nQ 5.515625 14.109375 5.515625 27.296875 \r\nQ 5.515625 40.671875 12.859375 48.328125 \r\nQ 20.21875 56 33.015625 56 \r\nQ 37.15625 56 41.109375 55.140625 \r\nQ 45.0625 54.296875 48.78125 52.59375 \r\nz\r\n\" id=\"DejaVuSans-99\"/>\r\n     <path d=\"M 52 44.1875 \r\nQ 55.375 50.25 60.0625 53.125 \r\nQ 64.75 56 71.09375 56 \r\nQ 79.640625 56 84.28125 50.015625 \r\nQ 88.921875 44.046875 88.921875 33.015625 \r\nL 88.921875 0 \r\nL 79.890625 0 \r\nL 79.890625 32.71875 \r\nQ 79.890625 40.578125 77.09375 44.375 \r\nQ 74.3125 48.1875 68.609375 48.1875 \r\nQ 61.625 48.1875 57.5625 43.546875 \r\nQ 53.515625 38.921875 53.515625 30.90625 \r\nL 53.515625 0 \r\nL 44.484375 0 \r\nL 44.484375 32.71875 \r\nQ 44.484375 40.625 41.703125 44.40625 \r\nQ 38.921875 48.1875 33.109375 48.1875 \r\nQ 26.21875 48.1875 22.15625 43.53125 \r\nQ 18.109375 38.875 18.109375 30.90625 \r\nL 18.109375 0 \r\nL 9.078125 0 \r\nL 9.078125 54.6875 \r\nL 18.109375 54.6875 \r\nL 18.109375 46.1875 \r\nQ 21.1875 51.21875 25.484375 53.609375 \r\nQ 29.78125 56 35.6875 56 \r\nQ 41.65625 56 45.828125 52.96875 \r\nQ 50 49.953125 52 44.1875 \r\nz\r\n\" id=\"DejaVuSans-109\"/>\r\n     <path d=\"M 9.8125 72.90625 \r\nL 51.703125 72.90625 \r\nL 51.703125 64.59375 \r\nL 19.671875 64.59375 \r\nL 19.671875 43.109375 \r\nL 48.578125 43.109375 \r\nL 48.578125 34.8125 \r\nL 19.671875 34.8125 \r\nL 19.671875 0 \r\nL 9.8125 0 \r\nz\r\n\" id=\"DejaVuSans-70\"/>\r\n     <path d=\"M 10.984375 1.515625 \r\nL 10.984375 10.5 \r\nQ 14.703125 8.734375 18.5 7.8125 \r\nQ 22.3125 6.890625 25.984375 6.890625 \r\nQ 35.75 6.890625 40.890625 13.453125 \r\nQ 46.046875 20.015625 46.78125 33.40625 \r\nQ 43.953125 29.203125 39.59375 26.953125 \r\nQ 35.25 24.703125 29.984375 24.703125 \r\nQ 19.046875 24.703125 12.671875 31.3125 \r\nQ 6.296875 37.9375 6.296875 49.421875 \r\nQ 6.296875 60.640625 12.9375 67.421875 \r\nQ 19.578125 74.21875 30.609375 74.21875 \r\nQ 43.265625 74.21875 49.921875 64.515625 \r\nQ 56.59375 54.828125 56.59375 36.375 \r\nQ 56.59375 19.140625 48.40625 8.859375 \r\nQ 40.234375 -1.421875 26.421875 -1.421875 \r\nQ 22.703125 -1.421875 18.890625 -0.6875 \r\nQ 15.09375 0.046875 10.984375 1.515625 \r\nz\r\nM 30.609375 32.421875 \r\nQ 37.25 32.421875 41.125 36.953125 \r\nQ 45.015625 41.5 45.015625 49.421875 \r\nQ 45.015625 57.28125 41.125 61.84375 \r\nQ 37.25 66.40625 30.609375 66.40625 \r\nQ 23.96875 66.40625 20.09375 61.84375 \r\nQ 16.21875 57.28125 16.21875 49.421875 \r\nQ 16.21875 41.5 20.09375 36.953125 \r\nQ 23.96875 32.421875 30.609375 32.421875 \r\nz\r\n\" id=\"DejaVuSans-57\"/>\r\n     <path d=\"M 16.890625 72.90625 \r\nL 39.703125 72.90625 \r\nQ 49.65625 72.90625 54.875 68.265625 \r\nQ 60.109375 63.625 60.109375 54.6875 \r\nQ 60.109375 42.671875 52.390625 35.984375 \r\nQ 44.671875 29.296875 30.71875 29.296875 \r\nL 18.3125 29.296875 \r\nL 12.59375 0 \r\nL 2.6875 0 \r\nz\r\nM 25.203125 64.796875 \r\nL 19.921875 37.40625 \r\nL 32.328125 37.40625 \r\nQ 40.71875 37.40625 45.203125 41.703125 \r\nQ 49.703125 46 49.703125 54 \r\nQ 49.703125 59.125 46.65625 61.953125 \r\nQ 43.609375 64.796875 38.09375 64.796875 \r\nz\r\n\" id=\"DejaVuSans-Oblique-80\"/>\r\n     <path d=\"M 6.6875 21.6875 \r\nL 13.09375 54.6875 \r\nL 22.125 54.6875 \r\nL 15.71875 22.015625 \r\nQ 15.234375 19.625 15.015625 17.921875 \r\nQ 14.796875 16.21875 14.796875 15.09375 \r\nQ 14.796875 10.9375 17.328125 8.65625 \r\nQ 19.875 6.390625 24.515625 6.390625 \r\nQ 31.734375 6.390625 37 11.265625 \r\nQ 42.28125 16.15625 43.890625 24.421875 \r\nL 49.90625 54.6875 \r\nL 58.890625 54.6875 \r\nL 48.296875 0 \r\nL 39.3125 0 \r\nL 41.109375 8.59375 \r\nQ 37.3125 3.8125 32.0625 1.1875 \r\nQ 26.8125 -1.421875 20.90625 -1.421875 \r\nQ 13.71875 -1.421875 9.71875 2.515625 \r\nQ 5.71875 6.453125 5.71875 13.484375 \r\nQ 5.71875 14.9375 5.953125 17.140625 \r\nQ 6.203125 19.34375 6.6875 21.6875 \r\nz\r\n\" id=\"DejaVuSans-Oblique-117\"/>\r\n    </defs>\r\n    <g transform=\"translate(211.224688 18.12)scale(0.12 -0.12)\">\r\n     <use transform=\"translate(0 0.765625)\" xlink:href=\"#DejaVuSans-65\"/>\r\n     <use transform=\"translate(68.408203 0.765625)\" xlink:href=\"#DejaVuSans-110\"/>\r\n     <use transform=\"translate(131.787109 0.765625)\" xlink:href=\"#DejaVuSans-116\"/>\r\n     <use transform=\"translate(170.996094 0.765625)\" xlink:href=\"#DejaVuSans-105\"/>\r\n     <use transform=\"translate(198.779297 0.765625)\" xlink:href=\"#DejaVuSans-110\"/>\r\n     <use transform=\"translate(262.158203 0.765625)\" xlink:href=\"#DejaVuSans-101\"/>\r\n     <use transform=\"translate(323.681641 0.765625)\" xlink:href=\"#DejaVuSans-117\"/>\r\n     <use transform=\"translate(387.060547 0.765625)\" xlink:href=\"#DejaVuSans-116\"/>\r\n     <use transform=\"translate(426.269531 0.765625)\" xlink:href=\"#DejaVuSans-114\"/>\r\n     <use transform=\"translate(467.382812 0.765625)\" xlink:href=\"#DejaVuSans-105\"/>\r\n     <use transform=\"translate(495.166016 0.765625)\" xlink:href=\"#DejaVuSans-110\"/>\r\n     <use transform=\"translate(558.544922 0.765625)\" xlink:href=\"#DejaVuSans-111\"/>\r\n     <use transform=\"translate(619.726562 0.765625)\" xlink:href=\"#DejaVuSans-32\"/>\r\n     <use transform=\"translate(651.513672 0.765625)\" xlink:href=\"#DejaVuSans-83\"/>\r\n     <use transform=\"translate(714.990234 0.765625)\" xlink:href=\"#DejaVuSans-112\"/>\r\n     <use transform=\"translate(778.466797 0.765625)\" xlink:href=\"#DejaVuSans-101\"/>\r\n     <use transform=\"translate(839.990234 0.765625)\" xlink:href=\"#DejaVuSans-99\"/>\r\n     <use transform=\"translate(894.970703 0.765625)\" xlink:href=\"#DejaVuSans-116\"/>\r\n     <use transform=\"translate(934.179688 0.765625)\" xlink:href=\"#DejaVuSans-114\"/>\r\n     <use transform=\"translate(975.292969 0.765625)\" xlink:href=\"#DejaVuSans-117\"/>\r\n     <use transform=\"translate(1038.671875 0.765625)\" xlink:href=\"#DejaVuSans-109\"/>\r\n     <use transform=\"translate(1136.083984 0.765625)\" xlink:href=\"#DejaVuSans-32\"/>\r\n     <use transform=\"translate(1167.871094 0.765625)\" xlink:href=\"#DejaVuSans-70\"/>\r\n     <use transform=\"translate(1225.390625 0.765625)\" xlink:href=\"#DejaVuSans-114\"/>\r\n     <use transform=\"translate(1266.503906 0.765625)\" xlink:href=\"#DejaVuSans-111\"/>\r\n     <use transform=\"translate(1327.685547 0.765625)\" xlink:href=\"#DejaVuSans-109\"/>\r\n     <use transform=\"translate(1425.097656 0.765625)\" xlink:href=\"#DejaVuSans-32\"/>\r\n     <use transform=\"translate(1457.841797 39.046875)scale(0.7)\" xlink:href=\"#DejaVuSans-50\"/>\r\n     <use transform=\"translate(1502.37793 39.046875)scale(0.7)\" xlink:href=\"#DejaVuSans-51\"/>\r\n     <use transform=\"translate(1546.914062 39.046875)scale(0.7)\" xlink:href=\"#DejaVuSans-57\"/>\r\n     <use transform=\"translate(1594.18457 0.765625)\" xlink:href=\"#DejaVuSans-Oblique-80\"/>\r\n     <use transform=\"translate(1654.487305 0.765625)\" xlink:href=\"#DejaVuSans-Oblique-117\"/>\r\n    </g>\r\n   </g>\r\n   <g id=\"legend_1\">\r\n    <g id=\"patch_7\">\r\n     <path d=\"M 42.304688 61.47625 \r\nL 112.428125 61.47625 \r\nQ 114.428125 61.47625 114.428125 59.47625 \r\nL 114.428125 31.12 \r\nQ 114.428125 29.12 112.428125 29.12 \r\nL 42.304688 29.12 \r\nQ 40.304688 29.12 40.304688 31.12 \r\nL 40.304688 59.47625 \r\nQ 40.304688 61.47625 42.304688 61.47625 \r\nz\r\n\" style=\"fill:#ffffff;opacity:0.8;stroke:#cccccc;stroke-linejoin:miter;\"/>\r\n    </g>\r\n    <g id=\"PathCollection_2\">\r\n     <g>\r\n      <use style=\"fill:#0000ff;stroke:#0000ff;\" x=\"54.304688\" xlink:href=\"#me0e0b8e72a\" y=\"38.093437\"/>\r\n     </g>\r\n    </g>\r\n    <g id=\"text_15\">\r\n     <!-- DYB/ILL -->\r\n     <defs>\r\n      <path d=\"M 19.671875 64.796875 \r\nL 19.671875 8.109375 \r\nL 31.59375 8.109375 \r\nQ 46.6875 8.109375 53.6875 14.9375 \r\nQ 60.6875 21.78125 60.6875 36.53125 \r\nQ 60.6875 51.171875 53.6875 57.984375 \r\nQ 46.6875 64.796875 31.59375 64.796875 \r\nz\r\nM 9.8125 72.90625 \r\nL 30.078125 72.90625 \r\nQ 51.265625 72.90625 61.171875 64.09375 \r\nQ 71.09375 55.28125 71.09375 36.53125 \r\nQ 71.09375 17.671875 61.125 8.828125 \r\nQ 51.171875 0 30.078125 0 \r\nL 9.8125 0 \r\nz\r\n\" id=\"DejaVuSans-68\"/>\r\n      <path d=\"M -0.203125 72.90625 \r\nL 10.40625 72.90625 \r\nL 30.609375 42.921875 \r\nL 50.6875 72.90625 \r\nL 61.28125 72.90625 \r\nL 35.5 34.71875 \r\nL 35.5 0 \r\nL 25.59375 0 \r\nL 25.59375 34.71875 \r\nz\r\n\" id=\"DejaVuSans-89\"/>\r\n      <path d=\"M 19.671875 34.8125 \r\nL 19.671875 8.109375 \r\nL 35.5 8.109375 \r\nQ 43.453125 8.109375 47.28125 11.40625 \r\nQ 51.125 14.703125 51.125 21.484375 \r\nQ 51.125 28.328125 47.28125 31.5625 \r\nQ 43.453125 34.8125 35.5 34.8125 \r\nz\r\nM 19.671875 64.796875 \r\nL 19.671875 42.828125 \r\nL 34.28125 42.828125 \r\nQ 41.5 42.828125 45.03125 45.53125 \r\nQ 48.578125 48.25 48.578125 53.8125 \r\nQ 48.578125 59.328125 45.03125 62.0625 \r\nQ 41.5 64.796875 34.28125 64.796875 \r\nz\r\nM 9.8125 72.90625 \r\nL 35.015625 72.90625 \r\nQ 46.296875 72.90625 52.390625 68.21875 \r\nQ 58.5 63.53125 58.5 54.890625 \r\nQ 58.5 48.1875 55.375 44.234375 \r\nQ 52.25 40.28125 46.1875 39.3125 \r\nQ 53.46875 37.75 57.5 32.78125 \r\nQ 61.53125 27.828125 61.53125 20.40625 \r\nQ 61.53125 10.640625 54.890625 5.3125 \r\nQ 48.25 0 35.984375 0 \r\nL 9.8125 0 \r\nz\r\n\" id=\"DejaVuSans-66\"/>\r\n      <path d=\"M 25.390625 72.90625 \r\nL 33.6875 72.90625 \r\nL 8.296875 -9.28125 \r\nL 0 -9.28125 \r\nz\r\n\" id=\"DejaVuSans-47\"/>\r\n      <path d=\"M 9.8125 72.90625 \r\nL 19.671875 72.90625 \r\nL 19.671875 0 \r\nL 9.8125 0 \r\nz\r\n\" id=\"DejaVuSans-73\"/>\r\n      <path d=\"M 9.8125 72.90625 \r\nL 19.671875 72.90625 \r\nL 19.671875 8.296875 \r\nL 55.171875 8.296875 \r\nL 55.171875 0 \r\nL 9.8125 0 \r\nz\r\n\" id=\"DejaVuSans-76\"/>\r\n     </defs>\r\n     <g transform=\"translate(72.304688 40.718437)scale(0.1 -0.1)\">\r\n      <use xlink:href=\"#DejaVuSans-68\"/>\r\n      <use x=\"76.923828\" xlink:href=\"#DejaVuSans-89\"/>\r\n      <use x=\"138.007812\" xlink:href=\"#DejaVuSans-66\"/>\r\n      <use x=\"206.611328\" xlink:href=\"#DejaVuSans-47\"/>\r\n      <use x=\"240.302734\" xlink:href=\"#DejaVuSans-73\"/>\r\n      <use x=\"269.794922\" xlink:href=\"#DejaVuSans-76\"/>\r\n      <use x=\"325.507812\" xlink:href=\"#DejaVuSans-76\"/>\r\n     </g>\r\n    </g>\r\n    <g id=\"LineCollection_2\">\r\n     <path d=\"M 54.304688 56.896562 \r\nL 54.304688 46.896562 \r\n\" style=\"fill:none;stroke:#000000;stroke-width:0.5;\"/>\r\n    </g>\r\n    <g id=\"line2d_18\">\r\n     <g>\r\n      <use style=\"stroke:#000000;stroke-width:0.5;\" x=\"54.304688\" xlink:href=\"#mfc4fe97370\" y=\"56.896562\"/>\r\n     </g>\r\n    </g>\r\n    <g id=\"line2d_19\">\r\n     <g>\r\n      <use style=\"stroke:#000000;stroke-width:0.5;\" x=\"54.304688\" xlink:href=\"#mfc4fe97370\" y=\"46.896562\"/>\r\n     </g>\r\n    </g>\r\n    <g id=\"line2d_20\"/>\r\n    <g id=\"line2d_21\"/>\r\n    <g id=\"text_16\">\r\n     <!-- ILL err -->\r\n     <g transform=\"translate(72.304688 55.396562)scale(0.1 -0.1)\">\r\n      <use xlink:href=\"#DejaVuSans-73\"/>\r\n      <use x=\"29.492188\" xlink:href=\"#DejaVuSans-76\"/>\r\n      <use x=\"85.205078\" xlink:href=\"#DejaVuSans-76\"/>\r\n      <use x=\"140.917969\" xlink:href=\"#DejaVuSans-32\"/>\r\n      <use x=\"172.705078\" xlink:href=\"#DejaVuSans-101\"/>\r\n      <use x=\"234.228516\" xlink:href=\"#DejaVuSans-114\"/>\r\n      <use x=\"275.326172\" xlink:href=\"#DejaVuSans-114\"/>\r\n     </g>\r\n    </g>\r\n   </g>\r\n  </g>\r\n </g>\r\n <defs>\r\n  <clipPath id=\"pc55f53cfe6\">\r\n   <rect height=\"271.8\" width=\"558\" x=\"35.304688\" y=\"24.12\"/>\r\n  </clipPath>\r\n </defs>\r\n</svg>\r\n",
            "image/png": "[encoded data removed]"
          },
          "metadata": {
            "tags": [],
            "needs_background": "light"
          }
        }
      ]
    },
    {
      "cell_type": "markdown",
      "metadata": {
        "id": "Gs18Vdi3ctSm"
      },
      "source": [
        "References: <br>\n",
        "[1]\n",
        "<a href=\"https://sci-hub.se/https://www.sciencedirect.com/science/article/abs/pii/0370269385913371\"> Schreckenbach, K. et al. (1985). Determination of the antineutrino spectrum from 235-U thermal neutron fission products up to 9.5 MeV.</a><br>\n",
        "[2]\n",
        "<a href=\"https://sci-hub.se/https://journals.aps.org/prl/pdf/10.1103/PhysRevLett.123.111801\" target=\"_blank\"> Adey, D., et al. (2019). Extraction of the 235-U and 239-Pu Antineutrino Spectra at Daya Bay.</a><br>\n",
        "[3]\n",
        "<a href=\"https://arxiv.org/pdf/1812.10877.pdf\" target=\"_blank\"> Ashenfelter, J., et al. (2018). Measurement of the Antineutrino Spectrum from 235-U Fission at HFIR with PROSPECT</a><br>\n",
        "[4]\n",
        "<a href=\"https://sci-hub.se/https://www.sciencedirect.com/science/article/abs/pii/0370269389915980\"> Hahn, A. A., et al. (1989). Antineutrino spectra from 241-Pu and 239-Pu thermal neutron fission products.</a><br>\n",
        "[5]\n",
        "<a href=\"https://agenda.infn.it/event/24250/contributions/129838/attachments/79489/103375/Serebrov_neutrino-4_neutel2021.pdf\">https://agenda.infn.it/event/24250/contributions/129838/attachments/79489/103375/Serebrov_neutrino-4_neutel2021.pdf</a><br>\n",
        "[6]\n",
        "<a href=\"https://iopscience.iop.org/article/10.1088/1742-6596/1468/1/012185\">https://iopscience.iop.org/article/10.1088/1742-6596/1468/1/012185</a>"
      ]
    }
  ]
}