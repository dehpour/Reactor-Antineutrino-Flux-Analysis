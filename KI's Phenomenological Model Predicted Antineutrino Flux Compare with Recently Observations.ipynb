{
  "nbformat": 4,
  "nbformat_minor": 0,
  "metadata": {
    "colab": {
      "name": "KI's Phenomenological Model Predicted Antineutrino Flux Compare with Recently Observations.ipynb",
      "provenance": [],
      "collapsed_sections": [],
      "authorship_tag": "ABX9TyNp21U7XLSziaVE37rAMpNn"
    },
    "kernelspec": {
      "name": "python3",
      "display_name": "Python 3"
    }
  },
  "cells": [
    {
      "cell_type": "code",
      "metadata": {
        "id": "yxaEP1YRsMGn"
      },
      "source": [
        "import pandas as pd\r\n",
        "import numpy as np\r\n",
        "import matplotlib.pyplot as plt\r\n",
        "from scipy import interpolate\r\n",
        "from sympy import diff,solve,Eq"
      ],
      "execution_count": 1,
      "outputs": []
    },
    {
      "cell_type": "markdown",
      "metadata": {
        "id": "6iAXnHcRszT9"
      },
      "source": [
        "<h2 style=\"background-color:green;\">\r\n",
        "U-235 Spectra\r\n",
        "</h2>"
      ]
    },
    {
      "cell_type": "markdown",
      "metadata": {
        "id": "o_MD1I1yyNPk"
      },
      "source": [
        "Load predicted antineutrino spectra for U-235 according beta spectra from KI paper [1] and fit on that with chi-squared method. Hence we have spectra function per energy."
      ]
    },
    {
      "cell_type": "code",
      "metadata": {
        "id": "2YkDL_AAs1Jx"
      },
      "source": [
        "KI_235U = pd.read_csv('https://raw.githubusercontent.com/dehpour/Reactor-Antineutrino-Flux-Analysis/main/db/2021Kopeikin_N_nu_E_235U.csv')\r\n",
        "E_KI_235U, N_KI_235U, err_KI_235U = KI_235U['E'], KI_235U['N_nu'], KI_235U['err']\r\n",
        "#KI_235U.head()"
      ],
      "execution_count": 2,
      "outputs": []
    },
    {
      "cell_type": "code",
      "metadata": {
        "id": "G-oGSjKqxN_W"
      },
      "source": [
        "from sympy.abc import a,b,c,d,e,f\r\n",
        "chi_sq = []\r\n",
        "\r\n",
        "for i in range (len(N_KI_235U)):\r\n",
        "    chi_sq.append(((np.log(N_KI_235U[i]) - (a + b*(E_KI_235U[i]) + c*(E_KI_235U[i])**2 + d*(E_KI_235U[i])**3 + e*(E_KI_235U[i])**4+f*(E_KI_235U[i])**5))/np.log((err_KI_235U[i]*N_KI_235U[i])/100))**2)\r\n",
        "    i += 1\r\n",
        "chi_sq = sum(chi_sq)\r\n",
        "\r\n",
        "eq1 = Eq(diff(chi_sq,a), 0)\r\n",
        "eq2 = Eq(diff(chi_sq,b), 0)\r\n",
        "eq3 = Eq(diff(chi_sq,c), 0)\r\n",
        "eq4 = Eq(diff(chi_sq,d), 0)\r\n",
        "eq5 = Eq(diff(chi_sq,e), 0)\r\n",
        "eq6 = Eq(diff(chi_sq,f), 0)\r\n",
        "sol = solve((eq1,eq2,eq3,eq4,eq5,eq6), (a, b, c, d, e, f))\r\n",
        "a_0_235U, a_1_235U, a_2_235U, a_3_235U, a_4_235U,a_5_235U = np.float(sol[a]), np.float(sol[b]), np.float(sol[c]), np.float(sol[d]), np.float(sol[e]), np.float(sol[f])"
      ],
      "execution_count": 3,
      "outputs": []
    },
    {
      "cell_type": "markdown",
      "metadata": {
        "id": "xsjFeBg3yVf-"
      },
      "source": [
        "Load Daya Bay (DYB) and PROSPECT experimental data from [2, 3]. Note that spectra must per 12 hr per 1 MeV per fission (fission energy equal to 203 MeV), these data per 24 hr (because we want compare with KI results), so we divide by 2.\r\n",
        "Another hand PROSPECT data per 200 keV and we must convert to per 1 MeV per fission."
      ]
    },
    {
      "cell_type": "code",
      "metadata": {
        "id": "9LLq3X0Uxphl"
      },
      "source": [
        "DYB_235U = pd.read_csv('https://raw.githubusercontent.com/dehpour/Reactor-Antineutrino-Flux-Analysis/main/db/2019Adey_N_nu_E_235U.csv')\r\n",
        "E_DYB_235U, N_DYB_235U = DYB_235U['E'], DYB_235U['N_nu']/2\r\n",
        "#DYB_235U.head()"
      ],
      "execution_count": 4,
      "outputs": []
    },
    {
      "cell_type": "code",
      "metadata": {
        "id": "hWSTqA0rxrds"
      },
      "source": [
        "PROSPECT_235U = pd.read_csv('https://raw.githubusercontent.com/dehpour/Reactor-Antineutrino-Flux-Analysis/main/db/2018Ashenfelter_N_nu_E_235U.csv')\r\n",
        "E_PROSPECT_235U, N_PROSPECT_235U = PROSPECT_235U['E'], ((202.36*1000)/200)*PROSPECT_235U['N_nu']*10**-6/2\r\n",
        "#PROSPECT_235U.head()"
      ],
      "execution_count": 5,
      "outputs": []
    },
    {
      "cell_type": "code",
      "metadata": {
        "colab": {
          "base_uri": "https://localhost:8080/",
          "height": 464
        },
        "id": "aOIlAIShxt_M",
        "outputId": "c273f089-81ee-4e8b-d4b6-8a6c7f0b6b3b"
      },
      "source": [
        "plt.figure(figsize=(10, 5),dpi=100)\r\n",
        "plt.xlim(1.8,8.9)\r\n",
        "plt.ylim(1-30,1+30)\r\n",
        "\r\n",
        "plt.scatter(E_DYB_235U, (N_DYB_235U)/np.exp(a_0_235U+a_1_235U*E_DYB_235U+a_2_235U*E_DYB_235U**2+a_3_235U*E_DYB_235U**3+a_4_235U*E_DYB_235U**4+a_5_235U*E_DYB_235U**5), label=\"DYB/KI\", c='b', marker='v', s=12)\r\n",
        "plt.scatter(E_PROSPECT_235U, (N_PROSPECT_235U)/np.exp(a_0_235U+a_1_235U*E_PROSPECT_235U+a_2_235U*E_PROSPECT_235U**2+a_3_235U*E_PROSPECT_235U**3+a_4_235U*E_PROSPECT_235U**4+a_5_235U*E_PROSPECT_235U**5), label=\"PROSPECT/KI\", c='r', s=12)\r\n",
        "\r\n",
        "plt.errorbar(E_KI_235U, (N_KI_235U/N_KI_235U), yerr=(err_KI_235U), linestyle=\"None\", c='black',capsize=4.5,capthick=0.5,elinewidth=0.5, label=\"KI err\")\r\n",
        "plt.axhline(y=1, color='black', linestyle='-',linewidth=0.5)\r\n",
        "\r\n",
        "plt.title('Antineutrino Spectrum From ''$^{235}U $')\r\n",
        "plt.legend()\r\n",
        "plt.show()"
      ],
      "execution_count": 6,
      "outputs": [
        {
          "output_type": "display_data",
          "data": {
            "image/png": "[encoded data removed]",
            "text/plain": [
              "<Figure size 1000x500 with 1 Axes>"
            ]
          },
          "metadata": {
            "tags": [],
            "needs_background": "light"
          }
        }
      ]
    },
    {
      "cell_type": "markdown",
      "metadata": {
        "id": "Nf9JdFSs0xWU"
      },
      "source": [
        "References: <br>\r\n",
        "[1]\r\n",
        "<a href=\"https://arxiv.org/pdf/2103.01684.pdf\"> Kopeikin, V. et al. (2021). Reevaluating reactor antineutrino spectra with new measurements of the ratio\r\n",
        "between 235-U and 239-Pu β spectra.</a><br>\r\n",
        "[2]\r\n",
        "<a href=\"https://sci-hub.se/https://journals.aps.org/prl/pdf/10.1103/PhysRevLett.123.111801\" target=\"_blank\"> Adey, D., et al. (2019). Extraction of the 235-U and 239-Pu Antineutrino Spectra at Daya Bay.</a><br>\r\n",
        "[3]\r\n",
        "<a href=\"https://arxiv.org/pdf/1812.10877.pdf\" target=\"_blank\"> Ashenfelter, J., et al. (2018). Measurement of the Antineutrino Spectrum from 235-U Fission at HFIR with PROSPECT</a>"
      ]
    }
  ]
}