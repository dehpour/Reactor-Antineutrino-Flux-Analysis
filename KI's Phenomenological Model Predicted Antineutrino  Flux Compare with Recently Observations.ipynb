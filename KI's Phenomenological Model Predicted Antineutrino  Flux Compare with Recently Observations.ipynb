{
  "nbformat": 4,
  "nbformat_minor": 0,
  "metadata": {
    "colab": {
      "name": "KI's Phenomenological Model Predicted Antineutrino Flux Compare with Recently Observations.ipynb",
      "provenance": [],
      "authorship_tag": "ABX9TyNLv5cMcuzyvEUaUAFqdKFX"
    },
    "kernelspec": {
      "name": "python3",
      "display_name": "Python 3"
    }
  },
  "cells": [
    {
      "cell_type": "code",
      "metadata": {
        "id": "yxaEP1YRsMGn"
      },
      "source": [
        ""
      ],
      "execution_count": null,
      "outputs": []
    }
  ]
}