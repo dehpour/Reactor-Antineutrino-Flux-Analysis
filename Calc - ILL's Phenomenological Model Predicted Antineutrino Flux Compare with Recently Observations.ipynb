{
 "cells": [
  {
   "cell_type": "markdown",
   "metadata": {},
   "source": [
    "<h2><span style=\"float: right\"><u>مقایسه‌ی شار آنتی‌نوترینوی راکتوری پیش‌بینی شده به روش پدیده‌شناسانه‌ی ای ال ال با مشاهدات اخیر</u></span></h2>\n",
    "<div dir= \"rtl\" align=\"right\">مهران دهپور و سحر صفری</div>"
   ]
  },
  {
   "cell_type": "code",
   "execution_count": 1,
   "metadata": {},
   "outputs": [],
   "source": [
    "import csv\n",
    "import numpy as np\n",
    "import matplotlib.pyplot as plt\n",
    "from scipy import interpolate\n",
    "from sympy import diff,solve,Eq"
   ]
  },
  {
   "cell_type": "markdown",
   "metadata": {
    "slideshow": {
     "slide_type": "-"
    }
   },
   "source": [
    "<h2 dir=\"rtl\" align=\"right\">\n",
    "اورانیوم ۲۳۵ \n",
    "</h2>"
   ]
  },
  {
   "cell_type": "markdown",
   "metadata": {},
   "source": [
    "<div dir= \"rtl\" align=\"right\">\n",
    "داده‌های مربوط به طیف آنتی‌نوترینوی سوختن اورانیوم-۲۳۵ بدست آمده از طریق اندازه گیری طیف بتا که توسط آی ال ال اندازه گیری شده و تبدیل شده اند که در جدول ۱ مقاله‌ی ذیل آمده را وارد می‌کنیم \n",
    "</div>\n",
    "<a href=\"https://sci-hub.se/https://www.sciencedirect.com/science/article/abs/pii/0370269385913371\">Schreckenbach, K. et al. (1985). Determination of the antineutrino spectrum from 235-U thermal neutron fission products up to 9.5 MeV.</a>\n",
    "<div dir= \"rtl\" align=\"right\">\n",
    "توجه شود که داده‌های مربوطه به ازای سوختن ۱ ام ای وی و در طول ۱۲ ساعت است \n",
    "</div>"
   ]
  },
  {
   "cell_type": "code",
   "execution_count": 2,
   "metadata": {},
   "outputs": [],
   "source": [
    "with open('1985Schreckenbach_N_nu_E_235U.csv', newline='') as E_ILL_235U:\n",
    "    E_ILL_235U = np.array(list(csv.reader(E_ILL_235U)),dtype=float)\n",
    "E_ILL_235U, N_ILL_235U, err_ILL_235U = E_ILL_235U[:,0], E_ILL_235U[:,1], E_ILL_235U[:,3]"
   ]
  },
  {
   "cell_type": "markdown",
   "metadata": {},
   "source": [
    "<div dir= \"rtl\" align=\"right\">\n",
    "در این قسمت سعی می‌کنیم تا بر روی داده‌های آنتی‌نوترینوی بدست آمده از طریق آی ال ال به روش توان دو کای از مرتبه‌ی پنج برازش انجام دهیم و یک تابعی از انرژی برای طیف بدست بیاوریم \n",
    "</div>\n",
    "<div dir= \"rtl\" align=\"right\">\n",
    "برای این کار تابع توان دو کای را می‌سازیم و نسبت به ضرایب مشتق گرفته و همه آنها را برابر صفر قرار می‌دهیم تا ضرایبی را که با آن تابع کمینه می‌شود بیابیم \n",
    "</div>"
   ]
  },
  {
   "cell_type": "code",
   "execution_count": 13,
   "metadata": {},
   "outputs": [],
   "source": [
    "from sympy.abc import a,b,c,d,e,f\n",
    "chi_sq = []\n",
    "\n",
    "for i in range (len(N_ILL_235U)):\n",
    "    chi_sq.append(((np.log(N_ILL_235U[i]) - (a + b*(E_ILL_235U[i]) + c*(E_ILL_235U[i])**2 + d*(E_ILL_235U[i])**3 + e*(E_ILL_235U[i])**4+f*(E_ILL_235U[i])**5))/np.log((err_ILL_235U[i]*N_ILL_235U[i])/100))**2)\n",
    "    i += 1\n",
    "chi_sq = sum(chi_sq)\n",
    "\n",
    "eq1 = Eq(diff(chi_sq,a))\n",
    "eq2 = Eq(diff(chi_sq,b))\n",
    "eq3 = Eq(diff(chi_sq,c))\n",
    "eq4 = Eq(diff(chi_sq,d))\n",
    "eq5 = Eq(diff(chi_sq,e))\n",
    "eq6 = Eq(diff(chi_sq,f))\n",
    "sol = solve((eq1,eq2,eq3,eq4,eq5,eq6), (a, b, c, d, e, f))\n",
    "a_0_235U, a_1_235U, a_2_235U, a_3_235U, a_4_235U,a_5_235U = np.float(sol[a]), np.float(sol[b]), np.float(sol[c]), np.float(sol[d]), np.float(sol[e]), np.float(sol[f])"
   ]
  },
  {
   "cell_type": "markdown",
   "metadata": {},
   "source": [
    "<div dir= \"rtl\" align=\"right\">\n",
    "داده‌های طیف آنتی‌نوترینوی اندازه‌گیری شده توسط آشکارساز دایابای نیز در مقاله ذیل به صورت جداگانه برای اورانیوم-۲۳۵ استخراج شده و ما از داده‌های موجود در تصویر ۲ استفاده خواهیم کرد \n",
    "</div>\n",
    "<a href=\"https://sci-hub.se/https://journals.aps.org/prl/pdf/10.1103/PhysRevLett.123.111801\" target=\"_blank\">Adey, D., et al. (2019). Extraction of the 235-U and 239-Pu Antineutrino Spectra at Daya Bay.</a>\n",
    "<div dir= \"rtl\" align=\"right\">\n",
    "توجه شود که داده‌های مربوطه به ازای سوختن ۱ ام ای وی و در طول ۲۴ ساعت است لذا برای مقایسه با داده‌های ای ال ال تقسیم بر دو باید شود \n",
    "</div>"
   ]
  },
  {
   "cell_type": "code",
   "execution_count": 4,
   "metadata": {},
   "outputs": [],
   "source": [
    "with open('2019Adey_N_nu_E_235U.csv', newline='') as DYB_235U:\n",
    "    DYB_235U = np.array(list(csv.reader(DYB_235U)),dtype=float)\n",
    "E_DYB_235U, N_DYB_235U = DYB_235U[:,0], (DYB_235U[:,1]/2)"
   ]
  },
  {
   "cell_type": "markdown",
   "metadata": {},
   "source": [
    "<div dir= \"rtl\" align=\"right\">\n",
    "داده‌های طیف آنتی‌نوترینوی اندازه‌گیری شده توسط آشکارساز دیگر نیز در مقاله ذیل به صورت جداگانه برای اورانیوم-۲۳۵ استخراج شده و ما از داده‌های موجود در تصویر ۵ استفاده خواهیم کرد \n",
    "</div>\n",
    "<a href=\"https://arxiv.org/pdf/1812.10877.pdf\" target=\"_blank\">Ashenfelter, J., et al. (2018). Measurement of the Antineutrino Spectrum from 235-U Fission at HFIR with PROSPECT</a>\n",
    "<div dir= \"rtl\" align=\"right\">\n",
    "توجه شود که داده‌های مربوطه به ازای سوختن ۱ ام ای وی و در طول ۲۴ ساعت است لذا برای مقایسه با داده‌های ای ال ال تقسیم بر دو باید شود \n",
    "<br>\n",
    "از طرف دیگر توجه شود که داده‌های ذکر شده بر حسب دویست کیلو الکترون ولت هستند و باید بر حسب یک شکافت یعنی حدود دویست و سه مگا الکترون ولت و یک مگا الترون ولت بهنجارش شوند\n",
    "</div>"
   ]
  },
  {
   "cell_type": "code",
   "execution_count": 5,
   "metadata": {},
   "outputs": [],
   "source": [
    "with open('2018Ashenfelter_N_nu_E_235U.csv', newline='') as PROSPECT_235U:\n",
    "    PROSPECT_235U = np.array(list(csv.reader(PROSPECT_235U)),dtype=float)\n",
    "E_PROSPECT_235U, N_PROSPECT_235U = PROSPECT_235U[:,1], (PROSPECT_235U[:,0]/2)\n",
    "N_PROSPECT_235U = ((202.36*1000)/200)*N_PROSPECT_235U\n",
    "N_PROSPECT_235U = N_PROSPECT_235U*10**-6"
   ]
  },
  {
   "cell_type": "markdown",
   "metadata": {},
   "source": [
    "<div dir= \"rtl\" align=\"right\">\n",
    "حال با توجه به تابعی که از داده‌های ای ال ال آنرا ساخته ایم در انرژی‌هایی که از مشاهد در آن داده گرفتیم، نتیجه بدست آمده از آی ال ال را پیدا می‌کنیم سپس داده‌های اندازه‌گیری شده را بر آن تقسیم می‌کنیم که در نمودار به صورت واضح مشاهده می‌شود \n",
    "</div>"
   ]
  },
  {
   "cell_type": "code",
   "execution_count": 14,
   "metadata": {
    "scrolled": false
   },
   "outputs": [
    {
     "data": {
      "image/png": "[encoded data removed]",
      "text/plain": [
       "<Figure size 1000x500 with 1 Axes>"
      ]
     },
     "metadata": {
      "needs_background": "light"
     },
     "output_type": "display_data"
    }
   ],
   "source": [
    "plt.figure(figsize=(10, 5),dpi=100)\n",
    "plt.xlim(1.8,8.9)\n",
    "plt.ylim(1-30,1+30)\n",
    "\n",
    "plt.scatter(E_DYB_235U, (N_DYB_235U)/np.exp(a_0_235U+a_1_235U*E_DYB_235U+a_2_235U*E_DYB_235U**2+a_3_235U*E_DYB_235U**3+a_4_235U*E_DYB_235U**4+a_5_235U*E_DYB_235U**5), label=\"DYB/ILL\", c='b', marker='v', s=12)\n",
    "plt.scatter(E_PROSPECT_235U, (N_PROSPECT_235U)/np.exp(a_0_235U+a_1_235U*E_PROSPECT_235U+a_2_235U*E_PROSPECT_235U**2+a_3_235U*E_PROSPECT_235U**3+a_4_235U*E_PROSPECT_235U**4+a_5_235U*E_PROSPECT_235U**5), label=\"PROSPECT/ILL\", c='r', s=12)\n",
    "\n",
    "plt.errorbar(E_ILL_235U, (N_ILL_235U/N_ILL_235U), yerr=(err_ILL_235U), linestyle=\"None\", c='black',capsize=4.5,capthick=0.5,elinewidth=0.5, label=\"ILL err\")\n",
    "plt.axhline(y=1, color='black', linestyle='-',linewidth=0.5)\n",
    "\n",
    "plt.title('Antineutrino Spectrum From ''$^{235}U $')\n",
    "plt.legend()\n",
    "plt.show()"
   ]
  },
  {
   "cell_type": "markdown",
   "metadata": {},
   "source": [
    "<h2 dir=\"rtl\" align=\"right\">\n",
    "پلوتونیوم ۲۳۹ \n",
    "</h2>"
   ]
  },
  {
   "cell_type": "markdown",
   "metadata": {},
   "source": [
    "<div dir= \"rtl\" align=\"right\">\n",
    "به طور مشابه همان کارها را برای داده‌های مقاله ذیل که مربوط به پلوتونیم-۲۳۹ می‌باشد انجام می‌دهیم\n",
    "</div>\n",
    "<a href=\"https://sci-hub.se/https://www.sciencedirect.com/science/article/abs/pii/0370269389915980\">Hahn, A. A., et al. (1989). Antineutrino spectra from 241-Pu and 239-Pu thermal neutron fission products.</a>\n",
    "<div dir= \"rtl\" align=\"right\">\n",
    "توجه شود که داده‌های مربوطه به ازای سوختن ۱ ام ای وی و در طول ۱۲ ساعت است \n",
    "</div>"
   ]
  },
  {
   "cell_type": "code",
   "execution_count": 7,
   "metadata": {},
   "outputs": [],
   "source": [
    "with open('1989Hahn_N_nu_E_239Pu.csv', newline='') as ILL_239Pu:\n",
    "    ILL_239Pu = np.array(list(csv.reader(ILL_239Pu)),dtype=float)\n",
    "E_ILL_239Pu, N_ILL_239Pu, err_ILL_239Pu = ILL_239Pu[:,0], ILL_239Pu[:,1], ILL_239Pu[:,3]"
   ]
  },
  {
   "cell_type": "markdown",
   "metadata": {},
   "source": [
    "<div dir= \"rtl\" align=\"right\">\n",
    "در این قسمت سعی می‌کنیم تا بر روی داده‌های آنتی‌نوترینوی بدست آمده از طریق آی ال ال به روش توان دو کای از مرتبه‌ی پنج برازش انجام دهیم و یک تابعی از انرژی برای طیف بدست بیاوریم \n",
    "</div>\n",
    "<div dir= \"rtl\" align=\"right\">\n",
    "برای این کار تابع توان دو کای را می‌سازیم و نسبت به ضرایب مشتق گرفته و همه آنها را برابر صفر قرار می‌دهیم تا ضرایبی را که با آن تابع کمینه می‌شود بیابیم \n",
    "</div>"
   ]
  },
  {
   "cell_type": "code",
   "execution_count": 8,
   "metadata": {},
   "outputs": [],
   "source": [
    "from sympy.abc import a,b,c,d,e,f\n",
    "chi_sq = []\n",
    "\n",
    "for i in range (len(N_ILL_239Pu)):\n",
    "    chi_sq.append(((np.log(N_ILL_239Pu[i]) - (a + b*(E_ILL_239Pu[i]) + c*(E_ILL_239Pu[i])**2 + d*(E_ILL_239Pu[i])**3 + e*(E_ILL_239Pu[i])**4+f*(E_ILL_239Pu[i])**5))/np.log((err_ILL_239Pu[i]*N_ILL_239Pu[i])/100))**2)\n",
    "    i += 1\n",
    "    \n",
    "chi_sq = sum(chi_sq)\n",
    "\n",
    "eq1 = Eq(diff(chi_sq,a))\n",
    "eq2 = Eq(diff(chi_sq,b))\n",
    "eq3 = Eq(diff(chi_sq,c))\n",
    "eq4 = Eq(diff(chi_sq,d))\n",
    "eq5 = Eq(diff(chi_sq,e))\n",
    "eq6 = Eq(diff(chi_sq,f))\n",
    "sol = solve((eq1,eq2,eq3,eq4,eq5,eq6), (a, b, c, d, e, f))\n",
    "a_0_239Pu, a_1_239Pu, a_2_239Pu, a_3_239Pu, a_4_239Pu,a_5_239Pu = np.float(sol[a]), np.float(sol[b]), np.float(sol[c]), np.float(sol[d]), np.float(sol[e]), np.float(sol[f])"
   ]
  },
  {
   "cell_type": "markdown",
   "metadata": {},
   "source": [
    "<div dir= \"rtl\" align=\"right\">\n",
    "داده‌های طیف آنتی‌نوترینوی اندازه‌گیری شده توسط آشکارساز دایابای نیز در مقاله ذیل به صورت جداگانه برای پلوتونیوم-۲۳۹ استخراج شده و ما از داده‌های موجود در تصویر ۲ استفاده خواهیم کرد \n",
    "</div>\n",
    "<a href=\"https://sci-hub.se/https://journals.aps.org/prl/pdf/10.1103/PhysRevLett.123.111801\" target=\"_blank\">Adey, D., et al. (2019). Extraction of the 235-U and 239-Pu Antineutrino Spectra at Daya Bay.</a>\n",
    "<div dir= \"rtl\" align=\"right\">\n",
    "توجه شود که داده‌های مربوطه به ازای سوختن ۱ ام ای وی و در طول ۲۴ ساعت است لذا برای مقایسه با داده‌های ای ال ال تقسیم بر دو باید شود \n",
    "</div>"
   ]
  },
  {
   "cell_type": "code",
   "execution_count": 9,
   "metadata": {},
   "outputs": [],
   "source": [
    "with open('2019Adey_N_nu_E_239Pu.csv', newline='') as DYB_239Pu:\n",
    "    DYB_239Pu = np.array(list(csv.reader(DYB_239Pu)),dtype=float)\n",
    "E_DYB_239Pu, N_DYB_239Pu = DYB_239Pu[:,0], (DYB_239Pu[:,1]/2)"
   ]
  },
  {
   "cell_type": "markdown",
   "metadata": {},
   "source": [
    "<div dir= \"rtl\" align=\"right\">\n",
    "حال با توجه به تابعی که از داده‌های ای ال ال آنرا ساخته ایم در انرژی‌هایی که از مشاهد در آن داده گرفتیم، نتیجه بدست آمده از آی ال ال را پیدا می‌کنیم سپس داده‌های اندازه‌گیری شده را بر آن تقسیم می‌کنیم که در نمودار به صورت واضح مشاهده می‌شود \n",
    "</div>"
   ]
  },
  {
   "cell_type": "code",
   "execution_count": 11,
   "metadata": {
    "scrolled": false
   },
   "outputs": [
    {
     "data": {
      "image/png": "[encoded data removed]",
      "text/plain": [
       "<Figure size 1000x500 with 1 Axes>"
      ]
     },
     "metadata": {
      "needs_background": "light"
     },
     "output_type": "display_data"
    }
   ],
   "source": [
    "plt.figure(figsize=(10, 5),dpi=100)\n",
    "plt.xlim(1.4,8)\n",
    "plt.ylim(1-30,1+30)\n",
    "\n",
    "plt.scatter(E_DYB_239Pu, (N_DYB_239Pu)/np.exp(a_0_239Pu+a_1_239Pu*E_DYB_239Pu+a_2_239Pu*E_DYB_239Pu**2+a_3_239Pu*E_DYB_239Pu**3+a_4_239Pu*E_DYB_239Pu**4+a_5_239Pu*E_DYB_239Pu**5), label=\"DYB (Measurement)/ILL (Phenomenological Prediction)\", c='b', marker='v', s=12)\n",
    "\n",
    "plt.errorbar(E_ILL_239Pu, (N_ILL_239Pu/N_ILL_239Pu), yerr=(err_ILL_239Pu), linestyle=\"None\", c='black',capsize=4.5,capthick=0.5,elinewidth=0.5, label=\"ILL err\")\n",
    "plt.axhline(y=1, color='black', linestyle='-',linewidth=0.5)\n",
    "\n",
    "plt.title('Antineutrino Spectrum From ''$^{239}Pu $')\n",
    "plt.legend()\n",
    "plt.show()"
   ]
  }
 ],
 "metadata": {
  "kernelspec": {
   "display_name": "Python 3",
   "language": "python",
   "name": "python3"
  },
  "language_info": {
   "codemirror_mode": {
    "name": "ipython",
    "version": 3
   },
   "file_extension": ".py",
   "mimetype": "text/x-python",
   "name": "python",
   "nbconvert_exporter": "python",
   "pygments_lexer": "ipython3",
   "version": "3.7.4"
  }
 },
 "nbformat": 4,
 "nbformat_minor": 2
}
